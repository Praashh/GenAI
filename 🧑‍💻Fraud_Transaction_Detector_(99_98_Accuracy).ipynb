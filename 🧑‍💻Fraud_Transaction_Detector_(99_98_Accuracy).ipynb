{
  "metadata": {
    "kernelspec": {
      "language": "python",
      "display_name": "Python 3",
      "name": "python3"
    },
    "language_info": {
      "pygments_lexer": "ipython3",
      "nbconvert_exporter": "python",
      "version": "3.6.4",
      "file_extension": ".py",
      "codemirror_mode": {
        "name": "ipython",
        "version": 3
      },
      "name": "python",
      "mimetype": "text/x-python"
    },
    "colab": {
      "name": "🧑‍💻Fraud Transaction Detector (99.98 % Accuracy)",
      "provenance": [],
      "include_colab_link": true
    }
  },
  "nbformat_minor": 0,
  "nbformat": 4,
  "cells": [
    {
      "cell_type": "markdown",
      "metadata": {
        "id": "view-in-github",
        "colab_type": "text"
      },
      "source": [
        "<a href=\"https://colab.research.google.com/github/Praashh/GenAI/blob/main/%F0%9F%A7%91%E2%80%8D%F0%9F%92%BBFraud_Transaction_Detector_(99_98_Accuracy).ipynb\" target=\"_parent\"><img src=\"https://colab.research.google.com/assets/colab-badge.svg\" alt=\"Open In Colab\"/></a>"
      ]
    },
    {
      "source": [
        "\n",
        "# IMPORTANT: RUN THIS CELL IN ORDER TO IMPORT YOUR KAGGLE DATA SOURCES\n",
        "# TO THE CORRECT LOCATION (/kaggle/input) IN YOUR NOTEBOOK,\n",
        "# THEN FEEL FREE TO DELETE THIS CELL.\n",
        "# NOTE: THIS NOTEBOOK ENVIRONMENT DIFFERS FROM KAGGLE'S PYTHON\n",
        "# ENVIRONMENT SO THERE MAY BE MISSING LIBRARIES USED BY YOUR\n",
        "# NOTEBOOK.\n",
        "\n",
        "import os\n",
        "import sys\n",
        "from tempfile import NamedTemporaryFile\n",
        "from urllib.request import urlopen\n",
        "from urllib.parse import unquote, urlparse\n",
        "from urllib.error import HTTPError\n",
        "from zipfile import ZipFile\n",
        "import tarfile\n",
        "import shutil\n",
        "\n",
        "CHUNK_SIZE = 40960\n",
        "DATA_SOURCE_MAPPING = 'fraud-transaction-detection:https%3A%2F%2Fstorage.googleapis.com%2Fkaggle-data-sets%2F2793101%2F4821730%2Fbundle%2Farchive.zip%3FX-Goog-Algorithm%3DGOOG4-RSA-SHA256%26X-Goog-Credential%3Dgcp-kaggle-com%2540kaggle-161607.iam.gserviceaccount.com%252F20240224%252Fauto%252Fstorage%252Fgoog4_request%26X-Goog-Date%3D20240224T131110Z%26X-Goog-Expires%3D259200%26X-Goog-SignedHeaders%3Dhost%26X-Goog-Signature%3D896b381aa8388698a421807429567411ae7061d8a3fecfb7ad961daf9d516fe87793a1145c2318399c415875a9df71fbe682f8ab56eed71910b72f54f26355999ef8ee3e1889e3aefa1587df9a3fa25f0a01b8186c2aeff78d8a8d573b69c143c3a2a3c84ea63f4fa56d2fc7dbe7494365179423cc735b0d23ca620dfe4ae8090c6a991bf815604487be1502df145bfcc68f10efac3eee1b193fc27fd06d3223c3c328ac9494bed445993ecb1d03aeaba888dfe39622391b153edee72db5517b414ff231fd8d7f44477fa9599395fb44e26123f758fe53338cb2d5e771ed779d2d3969795eeef3ad139f880d44da6bca3367d5bf83248a68753e1b9fd71ba29f'\n",
        "\n",
        "KAGGLE_INPUT_PATH='/kaggle/input'\n",
        "KAGGLE_WORKING_PATH='/kaggle/working'\n",
        "KAGGLE_SYMLINK='kaggle'\n",
        "\n",
        "!umount /kaggle/input/ 2> /dev/null\n",
        "shutil.rmtree('/kaggle/input', ignore_errors=True)\n",
        "os.makedirs(KAGGLE_INPUT_PATH, 0o777, exist_ok=True)\n",
        "os.makedirs(KAGGLE_WORKING_PATH, 0o777, exist_ok=True)\n",
        "\n",
        "try:\n",
        "  os.symlink(KAGGLE_INPUT_PATH, os.path.join(\"..\", 'input'), target_is_directory=True)\n",
        "except FileExistsError:\n",
        "  pass\n",
        "try:\n",
        "  os.symlink(KAGGLE_WORKING_PATH, os.path.join(\"..\", 'working'), target_is_directory=True)\n",
        "except FileExistsError:\n",
        "  pass\n",
        "\n",
        "for data_source_mapping in DATA_SOURCE_MAPPING.split(','):\n",
        "    directory, download_url_encoded = data_source_mapping.split(':')\n",
        "    download_url = unquote(download_url_encoded)\n",
        "    filename = urlparse(download_url).path\n",
        "    destination_path = os.path.join(KAGGLE_INPUT_PATH, directory)\n",
        "    try:\n",
        "        with urlopen(download_url) as fileres, NamedTemporaryFile() as tfile:\n",
        "            total_length = fileres.headers['content-length']\n",
        "            print(f'Downloading {directory}, {total_length} bytes compressed')\n",
        "            dl = 0\n",
        "            data = fileres.read(CHUNK_SIZE)\n",
        "            while len(data) > 0:\n",
        "                dl += len(data)\n",
        "                tfile.write(data)\n",
        "                done = int(50 * dl / int(total_length))\n",
        "                sys.stdout.write(f\"\\r[{'=' * done}{' ' * (50-done)}] {dl} bytes downloaded\")\n",
        "                sys.stdout.flush()\n",
        "                data = fileres.read(CHUNK_SIZE)\n",
        "            if filename.endswith('.zip'):\n",
        "              with ZipFile(tfile) as zfile:\n",
        "                zfile.extractall(destination_path)\n",
        "            else:\n",
        "              with tarfile.open(tfile.name) as tarfile:\n",
        "                tarfile.extractall(destination_path)\n",
        "            print(f'\\nDownloaded and uncompressed: {directory}')\n",
        "    except HTTPError as e:\n",
        "        print(f'Failed to load (likely expired) {download_url} to path {destination_path}')\n",
        "        continue\n",
        "    except OSError as e:\n",
        "        print(f'Failed to load {download_url} to path {destination_path}')\n",
        "        continue\n",
        "\n",
        "print('Data source import complete.')\n"
      ],
      "metadata": {
        "id": "jmTBi6nWPc0L",
        "outputId": "54db377b-3edc-4f8d-ddc3-3bc014a680f4",
        "colab": {
          "base_uri": "https://localhost:8080/"
        }
      },
      "cell_type": "code",
      "outputs": [
        {
          "output_type": "stream",
          "name": "stdout",
          "text": [
            "Downloading fraud-transaction-detection, 35601528 bytes compressed\n",
            "[==================================================] 35601528 bytes downloaded\n",
            "Downloaded and uncompressed: fraud-transaction-detection\n",
            "Data source import complete.\n"
          ]
        }
      ],
      "execution_count": 1
    },
    {
      "cell_type": "markdown",
      "source": [
        "# <center> 🧑‍💻💰Fraud 🧑‍💻💰 </center>\n"
      ],
      "metadata": {
        "id": "RLWd-UF6Pc0R"
      }
    },
    {
      "cell_type": "markdown",
      "source": [
        "#### Recognizing fraudulent transactions from legitimate ones has been a challenge for businesses and individuals alike, as scammers continually find new ways to deceive the system. However, with the advent of advanced technologies like machine learning, this task can now be made much easier."
      ],
      "metadata": {
        "id": "PeWelkkoPc0T"
      }
    },
    {
      "cell_type": "markdown",
      "source": [
        "#### Let's see how we can do that"
      ],
      "metadata": {
        "id": "z68OGrnUPc0U"
      }
    },
    {
      "cell_type": "markdown",
      "source": [
        "![fraudulent-credit-card-transactions (1).jpg](attachment:350cdf90-cb0d-4850-8e2d-73af8766cd7f.jpg)"
      ],
      "metadata": {
        "id": "r8RzEkCpPc0V"
      }
    },
    {
      "cell_type": "markdown",
      "source": [
        "# Fraud 🧑‍💻💰: Data Introduction\n",
        "- **ID**: Represents row number of the transaction in the data.\n",
        "- **TRANSACTION_ID**: Represents a unique identifier for each transaction.\n",
        "- **TX_DATETIME**: Represents the date and time of the transaction.\n",
        "- **CUSTOMER_ID**: Represents the unique identifier of the customer who made the transaction.\n",
        "- **TERMINAL_ID**: Represents the unique identifier of the terminal where the transaction was made.\n",
        "- **TX_AMOUNT**: Represents the amount of the transaction.\n",
        "- **TX_TIME_SECONDS**: Represents the duration of the transaction in seconds.\n",
        "- **TX_TIME_DAYS**: Represents the duration of the transaction in days.\n",
        "- **TX_FRAUD**: indicates whether the transaction is fraudulent or not, with 0 representing a legitimate transaction and 1 representing a fraudulent transaction.\n",
        "- **TX_FRAUD_SCENARIO**: represents the type of fraudulent scenario that was identified, if any. A value of 0 indicates no fraud, and other values indicate different types of fraud scenarios.\n"
      ],
      "metadata": {
        "id": "KBu_ku8hPc0W"
      }
    },
    {
      "cell_type": "markdown",
      "source": [
        "# Table of Contents\n",
        "- [1. Import Libraries](#imports)\n",
        "- [2. Checking Data 💾](#check)\n",
        "- [3. Exploratory Data Analysis (EDA) 📊📈](#EDA)\n",
        "- [4. Data Manipulation 🪄](#Manipulation)\n",
        "    * Balancing Data\n",
        "    * Feature Extraction\n",
        "    * Standardizing Data\n",
        "- [5. Modeling 🤖](#modeling)\n",
        "    * Selecting Model\n",
        "    * Model Optimization\n",
        "- [6. Evaluation 🧪](#eval)"
      ],
      "metadata": {
        "id": "zsaTdW_8Pc0W"
      }
    },
    {
      "cell_type": "markdown",
      "source": [
        "<a id=\"imports\"></a>\n",
        "# 1. Import Libraries"
      ],
      "metadata": {
        "id": "hYc1u1h3Pc0X"
      }
    },
    {
      "cell_type": "code",
      "source": [
        "import pandas as pd\n",
        "import seaborn as sns\n",
        "import matplotlib.pyplot as plt\n",
        "import plotly.express as px\n",
        "from sklearn.preprocessing import StandardScaler\n",
        "from sklearn.model_selection import train_test_split\n",
        "from sklearn.linear_model import LogisticRegression\n",
        "from sklearn.metrics import accuracy_score, confusion_matrix\n",
        "from sklearn.linear_model import LogisticRegression\n",
        "from sklearn.neighbors import KNeighborsClassifier\n",
        "from sklearn.svm import SVC\n",
        "from sklearn.tree import DecisionTreeClassifier\n",
        "from sklearn.ensemble import RandomForestClassifier, GradientBoostingClassifier\n",
        "from sklearn.model_selection import GridSearchCV\n",
        "from sklearn.metrics import precision_score, recall_score, f1_score\n",
        "from sklearn.metrics import average_precision_score\n",
        "\n"
      ],
      "metadata": {
        "execution": {
          "iopub.status.busy": "2023-02-05T17:38:23.834612Z",
          "iopub.execute_input": "2023-02-05T17:38:23.835002Z",
          "iopub.status.idle": "2023-02-05T17:38:25.750779Z",
          "shell.execute_reply.started": "2023-02-05T17:38:23.83497Z",
          "shell.execute_reply": "2023-02-05T17:38:25.749677Z"
        },
        "trusted": true,
        "id": "ayaDeTENPc0Y"
      },
      "execution_count": 2,
      "outputs": []
    },
    {
      "cell_type": "markdown",
      "source": [
        "<a id=\"check\"></a>\n",
        "# 2. Checking Data 💾"
      ],
      "metadata": {
        "id": "PrSyRtgMPc0Z"
      }
    },
    {
      "cell_type": "code",
      "source": [
        "df = pd.read_csv('/kaggle/input/fraud-transaction-detection/Final Transactions.csv')"
      ],
      "metadata": {
        "execution": {
          "iopub.status.busy": "2023-02-05T12:23:02.104901Z",
          "iopub.execute_input": "2023-02-05T12:23:02.105391Z",
          "iopub.status.idle": "2023-02-05T12:23:06.265604Z",
          "shell.execute_reply.started": "2023-02-05T12:23:02.105356Z",
          "shell.execute_reply": "2023-02-05T12:23:06.264303Z"
        },
        "trusted": true,
        "id": "Tek0yL4XPc0a"
      },
      "execution_count": 3,
      "outputs": []
    },
    {
      "cell_type": "code",
      "source": [
        "df.head()"
      ],
      "metadata": {
        "execution": {
          "iopub.status.busy": "2023-02-05T12:23:06.301136Z",
          "iopub.execute_input": "2023-02-05T12:23:06.301535Z",
          "iopub.status.idle": "2023-02-05T12:23:06.320181Z",
          "shell.execute_reply.started": "2023-02-05T12:23:06.301503Z",
          "shell.execute_reply": "2023-02-05T12:23:06.318936Z"
        },
        "trusted": true,
        "id": "8l9QbYopPc0a",
        "outputId": "8b6e1e3b-f369-4b2c-87a4-ff58bdcc85e0",
        "colab": {
          "base_uri": "https://localhost:8080/",
          "height": 206
        }
      },
      "execution_count": 5,
      "outputs": [
        {
          "output_type": "execute_result",
          "data": {
            "text/plain": [
              "   Unnamed: 0  TRANSACTION_ID          TX_DATETIME  CUSTOMER_ID  TERMINAL_ID  \\\n",
              "0           0               0  2023-01-01 00:00:31          596         3156   \n",
              "1           1               1  2023-01-01 00:02:10         4961         3412   \n",
              "2           2               2  2023-01-01 00:07:56            2         1365   \n",
              "3           3               3  2023-01-01 00:09:29         4128         8737   \n",
              "4           4               4  2023-01-01 00:10:34          927         9906   \n",
              "\n",
              "   TX_AMOUNT  TX_TIME_SECONDS  TX_TIME_DAYS  TX_FRAUD  TX_FRAUD_SCENARIO  \n",
              "0     533.07               31             0         0                  0  \n",
              "1     808.56              130             0         0                  0  \n",
              "2    1442.94              476             0         1                  1  \n",
              "3     620.65              569             0         0                  0  \n",
              "4     490.66              634             0         0                  0  "
            ],
            "text/html": [
              "\n",
              "  <div id=\"df-2b0e72af-9389-4aa9-a7ea-7a8e669e33dc\" class=\"colab-df-container\">\n",
              "    <div>\n",
              "<style scoped>\n",
              "    .dataframe tbody tr th:only-of-type {\n",
              "        vertical-align: middle;\n",
              "    }\n",
              "\n",
              "    .dataframe tbody tr th {\n",
              "        vertical-align: top;\n",
              "    }\n",
              "\n",
              "    .dataframe thead th {\n",
              "        text-align: right;\n",
              "    }\n",
              "</style>\n",
              "<table border=\"1\" class=\"dataframe\">\n",
              "  <thead>\n",
              "    <tr style=\"text-align: right;\">\n",
              "      <th></th>\n",
              "      <th>Unnamed: 0</th>\n",
              "      <th>TRANSACTION_ID</th>\n",
              "      <th>TX_DATETIME</th>\n",
              "      <th>CUSTOMER_ID</th>\n",
              "      <th>TERMINAL_ID</th>\n",
              "      <th>TX_AMOUNT</th>\n",
              "      <th>TX_TIME_SECONDS</th>\n",
              "      <th>TX_TIME_DAYS</th>\n",
              "      <th>TX_FRAUD</th>\n",
              "      <th>TX_FRAUD_SCENARIO</th>\n",
              "    </tr>\n",
              "  </thead>\n",
              "  <tbody>\n",
              "    <tr>\n",
              "      <th>0</th>\n",
              "      <td>0</td>\n",
              "      <td>0</td>\n",
              "      <td>2023-01-01 00:00:31</td>\n",
              "      <td>596</td>\n",
              "      <td>3156</td>\n",
              "      <td>533.07</td>\n",
              "      <td>31</td>\n",
              "      <td>0</td>\n",
              "      <td>0</td>\n",
              "      <td>0</td>\n",
              "    </tr>\n",
              "    <tr>\n",
              "      <th>1</th>\n",
              "      <td>1</td>\n",
              "      <td>1</td>\n",
              "      <td>2023-01-01 00:02:10</td>\n",
              "      <td>4961</td>\n",
              "      <td>3412</td>\n",
              "      <td>808.56</td>\n",
              "      <td>130</td>\n",
              "      <td>0</td>\n",
              "      <td>0</td>\n",
              "      <td>0</td>\n",
              "    </tr>\n",
              "    <tr>\n",
              "      <th>2</th>\n",
              "      <td>2</td>\n",
              "      <td>2</td>\n",
              "      <td>2023-01-01 00:07:56</td>\n",
              "      <td>2</td>\n",
              "      <td>1365</td>\n",
              "      <td>1442.94</td>\n",
              "      <td>476</td>\n",
              "      <td>0</td>\n",
              "      <td>1</td>\n",
              "      <td>1</td>\n",
              "    </tr>\n",
              "    <tr>\n",
              "      <th>3</th>\n",
              "      <td>3</td>\n",
              "      <td>3</td>\n",
              "      <td>2023-01-01 00:09:29</td>\n",
              "      <td>4128</td>\n",
              "      <td>8737</td>\n",
              "      <td>620.65</td>\n",
              "      <td>569</td>\n",
              "      <td>0</td>\n",
              "      <td>0</td>\n",
              "      <td>0</td>\n",
              "    </tr>\n",
              "    <tr>\n",
              "      <th>4</th>\n",
              "      <td>4</td>\n",
              "      <td>4</td>\n",
              "      <td>2023-01-01 00:10:34</td>\n",
              "      <td>927</td>\n",
              "      <td>9906</td>\n",
              "      <td>490.66</td>\n",
              "      <td>634</td>\n",
              "      <td>0</td>\n",
              "      <td>0</td>\n",
              "      <td>0</td>\n",
              "    </tr>\n",
              "  </tbody>\n",
              "</table>\n",
              "</div>\n",
              "    <div class=\"colab-df-buttons\">\n",
              "\n",
              "  <div class=\"colab-df-container\">\n",
              "    <button class=\"colab-df-convert\" onclick=\"convertToInteractive('df-2b0e72af-9389-4aa9-a7ea-7a8e669e33dc')\"\n",
              "            title=\"Convert this dataframe to an interactive table.\"\n",
              "            style=\"display:none;\">\n",
              "\n",
              "  <svg xmlns=\"http://www.w3.org/2000/svg\" height=\"24px\" viewBox=\"0 -960 960 960\">\n",
              "    <path d=\"M120-120v-720h720v720H120Zm60-500h600v-160H180v160Zm220 220h160v-160H400v160Zm0 220h160v-160H400v160ZM180-400h160v-160H180v160Zm440 0h160v-160H620v160ZM180-180h160v-160H180v160Zm440 0h160v-160H620v160Z\"/>\n",
              "  </svg>\n",
              "    </button>\n",
              "\n",
              "  <style>\n",
              "    .colab-df-container {\n",
              "      display:flex;\n",
              "      gap: 12px;\n",
              "    }\n",
              "\n",
              "    .colab-df-convert {\n",
              "      background-color: #E8F0FE;\n",
              "      border: none;\n",
              "      border-radius: 50%;\n",
              "      cursor: pointer;\n",
              "      display: none;\n",
              "      fill: #1967D2;\n",
              "      height: 32px;\n",
              "      padding: 0 0 0 0;\n",
              "      width: 32px;\n",
              "    }\n",
              "\n",
              "    .colab-df-convert:hover {\n",
              "      background-color: #E2EBFA;\n",
              "      box-shadow: 0px 1px 2px rgba(60, 64, 67, 0.3), 0px 1px 3px 1px rgba(60, 64, 67, 0.15);\n",
              "      fill: #174EA6;\n",
              "    }\n",
              "\n",
              "    .colab-df-buttons div {\n",
              "      margin-bottom: 4px;\n",
              "    }\n",
              "\n",
              "    [theme=dark] .colab-df-convert {\n",
              "      background-color: #3B4455;\n",
              "      fill: #D2E3FC;\n",
              "    }\n",
              "\n",
              "    [theme=dark] .colab-df-convert:hover {\n",
              "      background-color: #434B5C;\n",
              "      box-shadow: 0px 1px 3px 1px rgba(0, 0, 0, 0.15);\n",
              "      filter: drop-shadow(0px 1px 2px rgba(0, 0, 0, 0.3));\n",
              "      fill: #FFFFFF;\n",
              "    }\n",
              "  </style>\n",
              "\n",
              "    <script>\n",
              "      const buttonEl =\n",
              "        document.querySelector('#df-2b0e72af-9389-4aa9-a7ea-7a8e669e33dc button.colab-df-convert');\n",
              "      buttonEl.style.display =\n",
              "        google.colab.kernel.accessAllowed ? 'block' : 'none';\n",
              "\n",
              "      async function convertToInteractive(key) {\n",
              "        const element = document.querySelector('#df-2b0e72af-9389-4aa9-a7ea-7a8e669e33dc');\n",
              "        const dataTable =\n",
              "          await google.colab.kernel.invokeFunction('convertToInteractive',\n",
              "                                                    [key], {});\n",
              "        if (!dataTable) return;\n",
              "\n",
              "        const docLinkHtml = 'Like what you see? Visit the ' +\n",
              "          '<a target=\"_blank\" href=https://colab.research.google.com/notebooks/data_table.ipynb>data table notebook</a>'\n",
              "          + ' to learn more about interactive tables.';\n",
              "        element.innerHTML = '';\n",
              "        dataTable['output_type'] = 'display_data';\n",
              "        await google.colab.output.renderOutput(dataTable, element);\n",
              "        const docLink = document.createElement('div');\n",
              "        docLink.innerHTML = docLinkHtml;\n",
              "        element.appendChild(docLink);\n",
              "      }\n",
              "    </script>\n",
              "  </div>\n",
              "\n",
              "\n",
              "<div id=\"df-0e816d0b-4d38-4925-981e-018b06b0d10f\">\n",
              "  <button class=\"colab-df-quickchart\" onclick=\"quickchart('df-0e816d0b-4d38-4925-981e-018b06b0d10f')\"\n",
              "            title=\"Suggest charts\"\n",
              "            style=\"display:none;\">\n",
              "\n",
              "<svg xmlns=\"http://www.w3.org/2000/svg\" height=\"24px\"viewBox=\"0 0 24 24\"\n",
              "     width=\"24px\">\n",
              "    <g>\n",
              "        <path d=\"M19 3H5c-1.1 0-2 .9-2 2v14c0 1.1.9 2 2 2h14c1.1 0 2-.9 2-2V5c0-1.1-.9-2-2-2zM9 17H7v-7h2v7zm4 0h-2V7h2v10zm4 0h-2v-4h2v4z\"/>\n",
              "    </g>\n",
              "</svg>\n",
              "  </button>\n",
              "\n",
              "<style>\n",
              "  .colab-df-quickchart {\n",
              "      --bg-color: #E8F0FE;\n",
              "      --fill-color: #1967D2;\n",
              "      --hover-bg-color: #E2EBFA;\n",
              "      --hover-fill-color: #174EA6;\n",
              "      --disabled-fill-color: #AAA;\n",
              "      --disabled-bg-color: #DDD;\n",
              "  }\n",
              "\n",
              "  [theme=dark] .colab-df-quickchart {\n",
              "      --bg-color: #3B4455;\n",
              "      --fill-color: #D2E3FC;\n",
              "      --hover-bg-color: #434B5C;\n",
              "      --hover-fill-color: #FFFFFF;\n",
              "      --disabled-bg-color: #3B4455;\n",
              "      --disabled-fill-color: #666;\n",
              "  }\n",
              "\n",
              "  .colab-df-quickchart {\n",
              "    background-color: var(--bg-color);\n",
              "    border: none;\n",
              "    border-radius: 50%;\n",
              "    cursor: pointer;\n",
              "    display: none;\n",
              "    fill: var(--fill-color);\n",
              "    height: 32px;\n",
              "    padding: 0;\n",
              "    width: 32px;\n",
              "  }\n",
              "\n",
              "  .colab-df-quickchart:hover {\n",
              "    background-color: var(--hover-bg-color);\n",
              "    box-shadow: 0 1px 2px rgba(60, 64, 67, 0.3), 0 1px 3px 1px rgba(60, 64, 67, 0.15);\n",
              "    fill: var(--button-hover-fill-color);\n",
              "  }\n",
              "\n",
              "  .colab-df-quickchart-complete:disabled,\n",
              "  .colab-df-quickchart-complete:disabled:hover {\n",
              "    background-color: var(--disabled-bg-color);\n",
              "    fill: var(--disabled-fill-color);\n",
              "    box-shadow: none;\n",
              "  }\n",
              "\n",
              "  .colab-df-spinner {\n",
              "    border: 2px solid var(--fill-color);\n",
              "    border-color: transparent;\n",
              "    border-bottom-color: var(--fill-color);\n",
              "    animation:\n",
              "      spin 1s steps(1) infinite;\n",
              "  }\n",
              "\n",
              "  @keyframes spin {\n",
              "    0% {\n",
              "      border-color: transparent;\n",
              "      border-bottom-color: var(--fill-color);\n",
              "      border-left-color: var(--fill-color);\n",
              "    }\n",
              "    20% {\n",
              "      border-color: transparent;\n",
              "      border-left-color: var(--fill-color);\n",
              "      border-top-color: var(--fill-color);\n",
              "    }\n",
              "    30% {\n",
              "      border-color: transparent;\n",
              "      border-left-color: var(--fill-color);\n",
              "      border-top-color: var(--fill-color);\n",
              "      border-right-color: var(--fill-color);\n",
              "    }\n",
              "    40% {\n",
              "      border-color: transparent;\n",
              "      border-right-color: var(--fill-color);\n",
              "      border-top-color: var(--fill-color);\n",
              "    }\n",
              "    60% {\n",
              "      border-color: transparent;\n",
              "      border-right-color: var(--fill-color);\n",
              "    }\n",
              "    80% {\n",
              "      border-color: transparent;\n",
              "      border-right-color: var(--fill-color);\n",
              "      border-bottom-color: var(--fill-color);\n",
              "    }\n",
              "    90% {\n",
              "      border-color: transparent;\n",
              "      border-bottom-color: var(--fill-color);\n",
              "    }\n",
              "  }\n",
              "</style>\n",
              "\n",
              "  <script>\n",
              "    async function quickchart(key) {\n",
              "      const quickchartButtonEl =\n",
              "        document.querySelector('#' + key + ' button');\n",
              "      quickchartButtonEl.disabled = true;  // To prevent multiple clicks.\n",
              "      quickchartButtonEl.classList.add('colab-df-spinner');\n",
              "      try {\n",
              "        const charts = await google.colab.kernel.invokeFunction(\n",
              "            'suggestCharts', [key], {});\n",
              "      } catch (error) {\n",
              "        console.error('Error during call to suggestCharts:', error);\n",
              "      }\n",
              "      quickchartButtonEl.classList.remove('colab-df-spinner');\n",
              "      quickchartButtonEl.classList.add('colab-df-quickchart-complete');\n",
              "    }\n",
              "    (() => {\n",
              "      let quickchartButtonEl =\n",
              "        document.querySelector('#df-0e816d0b-4d38-4925-981e-018b06b0d10f button');\n",
              "      quickchartButtonEl.style.display =\n",
              "        google.colab.kernel.accessAllowed ? 'block' : 'none';\n",
              "    })();\n",
              "  </script>\n",
              "</div>\n",
              "\n",
              "    </div>\n",
              "  </div>\n"
            ],
            "application/vnd.google.colaboratory.intrinsic+json": {
              "type": "dataframe",
              "variable_name": "df"
            }
          },
          "metadata": {},
          "execution_count": 5
        }
      ]
    },
    {
      "cell_type": "code",
      "source": [
        "df.info()"
      ],
      "metadata": {
        "execution": {
          "iopub.status.busy": "2023-02-05T12:23:10.723078Z",
          "iopub.execute_input": "2023-02-05T12:23:10.723584Z",
          "iopub.status.idle": "2023-02-05T12:23:10.758771Z",
          "shell.execute_reply.started": "2023-02-05T12:23:10.723536Z",
          "shell.execute_reply": "2023-02-05T12:23:10.757175Z"
        },
        "trusted": true,
        "id": "pm0eD1ikPc0a",
        "outputId": "31edb982-85aa-45f3-bea9-cdd58e1fb8ee",
        "colab": {
          "base_uri": "https://localhost:8080/"
        }
      },
      "execution_count": 6,
      "outputs": [
        {
          "output_type": "stream",
          "name": "stdout",
          "text": [
            "<class 'pandas.core.frame.DataFrame'>\n",
            "RangeIndex: 1754155 entries, 0 to 1754154\n",
            "Data columns (total 10 columns):\n",
            " #   Column             Dtype  \n",
            "---  ------             -----  \n",
            " 0   Unnamed: 0         int64  \n",
            " 1   TRANSACTION_ID     int64  \n",
            " 2   TX_DATETIME        object \n",
            " 3   CUSTOMER_ID        int64  \n",
            " 4   TERMINAL_ID        int64  \n",
            " 5   TX_AMOUNT          float64\n",
            " 6   TX_TIME_SECONDS    int64  \n",
            " 7   TX_TIME_DAYS       int64  \n",
            " 8   TX_FRAUD           int64  \n",
            " 9   TX_FRAUD_SCENARIO  int64  \n",
            "dtypes: float64(1), int64(8), object(1)\n",
            "memory usage: 133.8+ MB\n"
          ]
        }
      ]
    },
    {
      "cell_type": "code",
      "source": [
        "df.describe().round()"
      ],
      "metadata": {
        "execution": {
          "iopub.status.busy": "2023-02-05T12:23:14.164756Z",
          "iopub.execute_input": "2023-02-05T12:23:14.165285Z",
          "iopub.status.idle": "2023-02-05T12:23:14.828226Z",
          "shell.execute_reply.started": "2023-02-05T12:23:14.165247Z",
          "shell.execute_reply": "2023-02-05T12:23:14.827009Z"
        },
        "trusted": true,
        "id": "y4rSCFrDPc0a",
        "outputId": "592b39ea-840b-4059-ae95-f1145abe3295",
        "colab": {
          "base_uri": "https://localhost:8080/",
          "height": 300
        }
      },
      "execution_count": 9,
      "outputs": [
        {
          "output_type": "execute_result",
          "data": {
            "text/plain": [
              "       Unnamed: 0  TRANSACTION_ID  CUSTOMER_ID  TERMINAL_ID  TX_AMOUNT  \\\n",
              "count   1754155.0       1754155.0    1754155.0    1754155.0  1754155.0   \n",
              "mean     877077.0        877077.0       2504.0       4997.0      540.0   \n",
              "std      506381.0        506381.0       1446.0       2886.0     1180.0   \n",
              "min           0.0             0.0          0.0          0.0        0.0   \n",
              "25%      438538.0        438538.0       1252.0       2502.0      180.0   \n",
              "50%      877077.0        877077.0       2506.0       4994.0      422.0   \n",
              "75%     1315616.0       1315616.0       3765.0       7495.0      751.0   \n",
              "max     1754154.0       1754154.0       4999.0       9999.0   647838.0   \n",
              "\n",
              "       TX_TIME_SECONDS  TX_TIME_DAYS   TX_FRAUD  TX_FRAUD_SCENARIO  \n",
              "count        1754155.0     1754155.0  1754155.0          1754155.0  \n",
              "mean         7903234.0          91.0        0.0                0.0  \n",
              "std          4565172.0          53.0        0.0                0.0  \n",
              "min               31.0           0.0        0.0                0.0  \n",
              "25%          3940846.0          45.0        0.0                0.0  \n",
              "50%          7902670.0          91.0        0.0                0.0  \n",
              "75%         11865662.0         137.0        0.0                0.0  \n",
              "max         15811197.0         182.0        1.0                3.0  "
            ],
            "text/html": [
              "\n",
              "  <div id=\"df-a063b6be-9c72-40bd-a64d-3ce0d0f31224\" class=\"colab-df-container\">\n",
              "    <div>\n",
              "<style scoped>\n",
              "    .dataframe tbody tr th:only-of-type {\n",
              "        vertical-align: middle;\n",
              "    }\n",
              "\n",
              "    .dataframe tbody tr th {\n",
              "        vertical-align: top;\n",
              "    }\n",
              "\n",
              "    .dataframe thead th {\n",
              "        text-align: right;\n",
              "    }\n",
              "</style>\n",
              "<table border=\"1\" class=\"dataframe\">\n",
              "  <thead>\n",
              "    <tr style=\"text-align: right;\">\n",
              "      <th></th>\n",
              "      <th>Unnamed: 0</th>\n",
              "      <th>TRANSACTION_ID</th>\n",
              "      <th>CUSTOMER_ID</th>\n",
              "      <th>TERMINAL_ID</th>\n",
              "      <th>TX_AMOUNT</th>\n",
              "      <th>TX_TIME_SECONDS</th>\n",
              "      <th>TX_TIME_DAYS</th>\n",
              "      <th>TX_FRAUD</th>\n",
              "      <th>TX_FRAUD_SCENARIO</th>\n",
              "    </tr>\n",
              "  </thead>\n",
              "  <tbody>\n",
              "    <tr>\n",
              "      <th>count</th>\n",
              "      <td>1754155.0</td>\n",
              "      <td>1754155.0</td>\n",
              "      <td>1754155.0</td>\n",
              "      <td>1754155.0</td>\n",
              "      <td>1754155.0</td>\n",
              "      <td>1754155.0</td>\n",
              "      <td>1754155.0</td>\n",
              "      <td>1754155.0</td>\n",
              "      <td>1754155.0</td>\n",
              "    </tr>\n",
              "    <tr>\n",
              "      <th>mean</th>\n",
              "      <td>877077.0</td>\n",
              "      <td>877077.0</td>\n",
              "      <td>2504.0</td>\n",
              "      <td>4997.0</td>\n",
              "      <td>540.0</td>\n",
              "      <td>7903234.0</td>\n",
              "      <td>91.0</td>\n",
              "      <td>0.0</td>\n",
              "      <td>0.0</td>\n",
              "    </tr>\n",
              "    <tr>\n",
              "      <th>std</th>\n",
              "      <td>506381.0</td>\n",
              "      <td>506381.0</td>\n",
              "      <td>1446.0</td>\n",
              "      <td>2886.0</td>\n",
              "      <td>1180.0</td>\n",
              "      <td>4565172.0</td>\n",
              "      <td>53.0</td>\n",
              "      <td>0.0</td>\n",
              "      <td>0.0</td>\n",
              "    </tr>\n",
              "    <tr>\n",
              "      <th>min</th>\n",
              "      <td>0.0</td>\n",
              "      <td>0.0</td>\n",
              "      <td>0.0</td>\n",
              "      <td>0.0</td>\n",
              "      <td>0.0</td>\n",
              "      <td>31.0</td>\n",
              "      <td>0.0</td>\n",
              "      <td>0.0</td>\n",
              "      <td>0.0</td>\n",
              "    </tr>\n",
              "    <tr>\n",
              "      <th>25%</th>\n",
              "      <td>438538.0</td>\n",
              "      <td>438538.0</td>\n",
              "      <td>1252.0</td>\n",
              "      <td>2502.0</td>\n",
              "      <td>180.0</td>\n",
              "      <td>3940846.0</td>\n",
              "      <td>45.0</td>\n",
              "      <td>0.0</td>\n",
              "      <td>0.0</td>\n",
              "    </tr>\n",
              "    <tr>\n",
              "      <th>50%</th>\n",
              "      <td>877077.0</td>\n",
              "      <td>877077.0</td>\n",
              "      <td>2506.0</td>\n",
              "      <td>4994.0</td>\n",
              "      <td>422.0</td>\n",
              "      <td>7902670.0</td>\n",
              "      <td>91.0</td>\n",
              "      <td>0.0</td>\n",
              "      <td>0.0</td>\n",
              "    </tr>\n",
              "    <tr>\n",
              "      <th>75%</th>\n",
              "      <td>1315616.0</td>\n",
              "      <td>1315616.0</td>\n",
              "      <td>3765.0</td>\n",
              "      <td>7495.0</td>\n",
              "      <td>751.0</td>\n",
              "      <td>11865662.0</td>\n",
              "      <td>137.0</td>\n",
              "      <td>0.0</td>\n",
              "      <td>0.0</td>\n",
              "    </tr>\n",
              "    <tr>\n",
              "      <th>max</th>\n",
              "      <td>1754154.0</td>\n",
              "      <td>1754154.0</td>\n",
              "      <td>4999.0</td>\n",
              "      <td>9999.0</td>\n",
              "      <td>647838.0</td>\n",
              "      <td>15811197.0</td>\n",
              "      <td>182.0</td>\n",
              "      <td>1.0</td>\n",
              "      <td>3.0</td>\n",
              "    </tr>\n",
              "  </tbody>\n",
              "</table>\n",
              "</div>\n",
              "    <div class=\"colab-df-buttons\">\n",
              "\n",
              "  <div class=\"colab-df-container\">\n",
              "    <button class=\"colab-df-convert\" onclick=\"convertToInteractive('df-a063b6be-9c72-40bd-a64d-3ce0d0f31224')\"\n",
              "            title=\"Convert this dataframe to an interactive table.\"\n",
              "            style=\"display:none;\">\n",
              "\n",
              "  <svg xmlns=\"http://www.w3.org/2000/svg\" height=\"24px\" viewBox=\"0 -960 960 960\">\n",
              "    <path d=\"M120-120v-720h720v720H120Zm60-500h600v-160H180v160Zm220 220h160v-160H400v160Zm0 220h160v-160H400v160ZM180-400h160v-160H180v160Zm440 0h160v-160H620v160ZM180-180h160v-160H180v160Zm440 0h160v-160H620v160Z\"/>\n",
              "  </svg>\n",
              "    </button>\n",
              "\n",
              "  <style>\n",
              "    .colab-df-container {\n",
              "      display:flex;\n",
              "      gap: 12px;\n",
              "    }\n",
              "\n",
              "    .colab-df-convert {\n",
              "      background-color: #E8F0FE;\n",
              "      border: none;\n",
              "      border-radius: 50%;\n",
              "      cursor: pointer;\n",
              "      display: none;\n",
              "      fill: #1967D2;\n",
              "      height: 32px;\n",
              "      padding: 0 0 0 0;\n",
              "      width: 32px;\n",
              "    }\n",
              "\n",
              "    .colab-df-convert:hover {\n",
              "      background-color: #E2EBFA;\n",
              "      box-shadow: 0px 1px 2px rgba(60, 64, 67, 0.3), 0px 1px 3px 1px rgba(60, 64, 67, 0.15);\n",
              "      fill: #174EA6;\n",
              "    }\n",
              "\n",
              "    .colab-df-buttons div {\n",
              "      margin-bottom: 4px;\n",
              "    }\n",
              "\n",
              "    [theme=dark] .colab-df-convert {\n",
              "      background-color: #3B4455;\n",
              "      fill: #D2E3FC;\n",
              "    }\n",
              "\n",
              "    [theme=dark] .colab-df-convert:hover {\n",
              "      background-color: #434B5C;\n",
              "      box-shadow: 0px 1px 3px 1px rgba(0, 0, 0, 0.15);\n",
              "      filter: drop-shadow(0px 1px 2px rgba(0, 0, 0, 0.3));\n",
              "      fill: #FFFFFF;\n",
              "    }\n",
              "  </style>\n",
              "\n",
              "    <script>\n",
              "      const buttonEl =\n",
              "        document.querySelector('#df-a063b6be-9c72-40bd-a64d-3ce0d0f31224 button.colab-df-convert');\n",
              "      buttonEl.style.display =\n",
              "        google.colab.kernel.accessAllowed ? 'block' : 'none';\n",
              "\n",
              "      async function convertToInteractive(key) {\n",
              "        const element = document.querySelector('#df-a063b6be-9c72-40bd-a64d-3ce0d0f31224');\n",
              "        const dataTable =\n",
              "          await google.colab.kernel.invokeFunction('convertToInteractive',\n",
              "                                                    [key], {});\n",
              "        if (!dataTable) return;\n",
              "\n",
              "        const docLinkHtml = 'Like what you see? Visit the ' +\n",
              "          '<a target=\"_blank\" href=https://colab.research.google.com/notebooks/data_table.ipynb>data table notebook</a>'\n",
              "          + ' to learn more about interactive tables.';\n",
              "        element.innerHTML = '';\n",
              "        dataTable['output_type'] = 'display_data';\n",
              "        await google.colab.output.renderOutput(dataTable, element);\n",
              "        const docLink = document.createElement('div');\n",
              "        docLink.innerHTML = docLinkHtml;\n",
              "        element.appendChild(docLink);\n",
              "      }\n",
              "    </script>\n",
              "  </div>\n",
              "\n",
              "\n",
              "<div id=\"df-d133288c-d17c-46a5-b64a-00b683cc19f1\">\n",
              "  <button class=\"colab-df-quickchart\" onclick=\"quickchart('df-d133288c-d17c-46a5-b64a-00b683cc19f1')\"\n",
              "            title=\"Suggest charts\"\n",
              "            style=\"display:none;\">\n",
              "\n",
              "<svg xmlns=\"http://www.w3.org/2000/svg\" height=\"24px\"viewBox=\"0 0 24 24\"\n",
              "     width=\"24px\">\n",
              "    <g>\n",
              "        <path d=\"M19 3H5c-1.1 0-2 .9-2 2v14c0 1.1.9 2 2 2h14c1.1 0 2-.9 2-2V5c0-1.1-.9-2-2-2zM9 17H7v-7h2v7zm4 0h-2V7h2v10zm4 0h-2v-4h2v4z\"/>\n",
              "    </g>\n",
              "</svg>\n",
              "  </button>\n",
              "\n",
              "<style>\n",
              "  .colab-df-quickchart {\n",
              "      --bg-color: #E8F0FE;\n",
              "      --fill-color: #1967D2;\n",
              "      --hover-bg-color: #E2EBFA;\n",
              "      --hover-fill-color: #174EA6;\n",
              "      --disabled-fill-color: #AAA;\n",
              "      --disabled-bg-color: #DDD;\n",
              "  }\n",
              "\n",
              "  [theme=dark] .colab-df-quickchart {\n",
              "      --bg-color: #3B4455;\n",
              "      --fill-color: #D2E3FC;\n",
              "      --hover-bg-color: #434B5C;\n",
              "      --hover-fill-color: #FFFFFF;\n",
              "      --disabled-bg-color: #3B4455;\n",
              "      --disabled-fill-color: #666;\n",
              "  }\n",
              "\n",
              "  .colab-df-quickchart {\n",
              "    background-color: var(--bg-color);\n",
              "    border: none;\n",
              "    border-radius: 50%;\n",
              "    cursor: pointer;\n",
              "    display: none;\n",
              "    fill: var(--fill-color);\n",
              "    height: 32px;\n",
              "    padding: 0;\n",
              "    width: 32px;\n",
              "  }\n",
              "\n",
              "  .colab-df-quickchart:hover {\n",
              "    background-color: var(--hover-bg-color);\n",
              "    box-shadow: 0 1px 2px rgba(60, 64, 67, 0.3), 0 1px 3px 1px rgba(60, 64, 67, 0.15);\n",
              "    fill: var(--button-hover-fill-color);\n",
              "  }\n",
              "\n",
              "  .colab-df-quickchart-complete:disabled,\n",
              "  .colab-df-quickchart-complete:disabled:hover {\n",
              "    background-color: var(--disabled-bg-color);\n",
              "    fill: var(--disabled-fill-color);\n",
              "    box-shadow: none;\n",
              "  }\n",
              "\n",
              "  .colab-df-spinner {\n",
              "    border: 2px solid var(--fill-color);\n",
              "    border-color: transparent;\n",
              "    border-bottom-color: var(--fill-color);\n",
              "    animation:\n",
              "      spin 1s steps(1) infinite;\n",
              "  }\n",
              "\n",
              "  @keyframes spin {\n",
              "    0% {\n",
              "      border-color: transparent;\n",
              "      border-bottom-color: var(--fill-color);\n",
              "      border-left-color: var(--fill-color);\n",
              "    }\n",
              "    20% {\n",
              "      border-color: transparent;\n",
              "      border-left-color: var(--fill-color);\n",
              "      border-top-color: var(--fill-color);\n",
              "    }\n",
              "    30% {\n",
              "      border-color: transparent;\n",
              "      border-left-color: var(--fill-color);\n",
              "      border-top-color: var(--fill-color);\n",
              "      border-right-color: var(--fill-color);\n",
              "    }\n",
              "    40% {\n",
              "      border-color: transparent;\n",
              "      border-right-color: var(--fill-color);\n",
              "      border-top-color: var(--fill-color);\n",
              "    }\n",
              "    60% {\n",
              "      border-color: transparent;\n",
              "      border-right-color: var(--fill-color);\n",
              "    }\n",
              "    80% {\n",
              "      border-color: transparent;\n",
              "      border-right-color: var(--fill-color);\n",
              "      border-bottom-color: var(--fill-color);\n",
              "    }\n",
              "    90% {\n",
              "      border-color: transparent;\n",
              "      border-bottom-color: var(--fill-color);\n",
              "    }\n",
              "  }\n",
              "</style>\n",
              "\n",
              "  <script>\n",
              "    async function quickchart(key) {\n",
              "      const quickchartButtonEl =\n",
              "        document.querySelector('#' + key + ' button');\n",
              "      quickchartButtonEl.disabled = true;  // To prevent multiple clicks.\n",
              "      quickchartButtonEl.classList.add('colab-df-spinner');\n",
              "      try {\n",
              "        const charts = await google.colab.kernel.invokeFunction(\n",
              "            'suggestCharts', [key], {});\n",
              "      } catch (error) {\n",
              "        console.error('Error during call to suggestCharts:', error);\n",
              "      }\n",
              "      quickchartButtonEl.classList.remove('colab-df-spinner');\n",
              "      quickchartButtonEl.classList.add('colab-df-quickchart-complete');\n",
              "    }\n",
              "    (() => {\n",
              "      let quickchartButtonEl =\n",
              "        document.querySelector('#df-d133288c-d17c-46a5-b64a-00b683cc19f1 button');\n",
              "      quickchartButtonEl.style.display =\n",
              "        google.colab.kernel.accessAllowed ? 'block' : 'none';\n",
              "    })();\n",
              "  </script>\n",
              "</div>\n",
              "\n",
              "    </div>\n",
              "  </div>\n"
            ],
            "application/vnd.google.colaboratory.intrinsic+json": {
              "type": "dataframe",
              "summary": "{\n  \"name\": \"df\",\n  \"rows\": 8,\n  \"fields\": [\n    {\n      \"column\": \"Unnamed: 0\",\n      \"properties\": {\n        \"dtype\": \"number\",\n        \"std\": 632205.8365256299,\n        \"min\": 0.0,\n        \"max\": 1754155.0,\n        \"num_unique_values\": 7,\n        \"samples\": [\n          1754155.0,\n          877077.0,\n          1315616.0\n        ],\n        \"semantic_type\": \"\",\n        \"description\": \"\"\n      }\n    },\n    {\n      \"column\": \"TRANSACTION_ID\",\n      \"properties\": {\n        \"dtype\": \"number\",\n        \"std\": 632205.8365256299,\n        \"min\": 0.0,\n        \"max\": 1754155.0,\n        \"num_unique_values\": 7,\n        \"samples\": [\n          1754155.0,\n          877077.0,\n          1315616.0\n        ],\n        \"semantic_type\": \"\",\n        \"description\": \"\"\n      }\n    },\n    {\n      \"column\": \"CUSTOMER_ID\",\n      \"properties\": {\n        \"dtype\": \"number\",\n        \"std\": 619357.4021379942,\n        \"min\": 0.0,\n        \"max\": 1754155.0,\n        \"num_unique_values\": 8,\n        \"samples\": [\n          2504.0,\n          2506.0,\n          1754155.0\n        ],\n        \"semantic_type\": \"\",\n        \"description\": \"\"\n      }\n    },\n    {\n      \"column\": \"TERMINAL_ID\",\n      \"properties\": {\n        \"dtype\": \"number\",\n        \"std\": 618534.7644691098,\n        \"min\": 0.0,\n        \"max\": 1754155.0,\n        \"num_unique_values\": 8,\n        \"samples\": [\n          4997.0,\n          4994.0,\n          1754155.0\n        ],\n        \"semantic_type\": \"\",\n        \"description\": \"\"\n      }\n    },\n    {\n      \"column\": \"TX_AMOUNT\",\n      \"properties\": {\n        \"dtype\": \"number\",\n        \"std\": 629479.7725911113,\n        \"min\": 0.0,\n        \"max\": 1754155.0,\n        \"num_unique_values\": 8,\n        \"samples\": [\n          540.0,\n          422.0,\n          1754155.0\n        ],\n        \"semantic_type\": \"\",\n        \"description\": \"\"\n      }\n    },\n    {\n      \"column\": \"TX_TIME_SECONDS\",\n      \"properties\": {\n        \"dtype\": \"number\",\n        \"std\": 5265941.723724106,\n        \"min\": 31.0,\n        \"max\": 15811197.0,\n        \"num_unique_values\": 8,\n        \"samples\": [\n          7903234.0,\n          7902670.0,\n          1754155.0\n        ],\n        \"semantic_type\": \"\",\n        \"description\": \"\"\n      }\n    },\n    {\n      \"column\": \"TX_TIME_DAYS\",\n      \"properties\": {\n        \"dtype\": \"number\",\n        \"std\": 620157.1963450074,\n        \"min\": 0.0,\n        \"max\": 1754155.0,\n        \"num_unique_values\": 7,\n        \"samples\": [\n          1754155.0,\n          91.0,\n          137.0\n        ],\n        \"semantic_type\": \"\",\n        \"description\": \"\"\n      }\n    },\n    {\n      \"column\": \"TX_FRAUD\",\n      \"properties\": {\n        \"dtype\": \"number\",\n        \"std\": 620187.3973686156,\n        \"min\": 0.0,\n        \"max\": 1754155.0,\n        \"num_unique_values\": 3,\n        \"samples\": [\n          1754155.0,\n          0.0,\n          1.0\n        ],\n        \"semantic_type\": \"\",\n        \"description\": \"\"\n      }\n    },\n    {\n      \"column\": \"TX_FRAUD_SCENARIO\",\n      \"properties\": {\n        \"dtype\": \"number\",\n        \"std\": 620187.2963541509,\n        \"min\": 0.0,\n        \"max\": 1754155.0,\n        \"num_unique_values\": 3,\n        \"samples\": [\n          1754155.0,\n          0.0,\n          3.0\n        ],\n        \"semantic_type\": \"\",\n        \"description\": \"\"\n      }\n    }\n  ]\n}"
            }
          },
          "metadata": {},
          "execution_count": 9
        }
      ]
    },
    {
      "cell_type": "code",
      "source": [
        "object_cols = [\"TX_DATETIME\"]\n",
        "\n",
        "for i in object_cols:\n",
        "    print(\"column name : {}\".format(i))\n",
        "    print(\"Number of unique columns of \", i, \":{}\".format(df[i].nunique()))\n",
        "    print(\"Values of unique columns of \", i, \"is below: \\n{}\".format(df[i].value_counts()))\n",
        "    print(\"------------------------------------------------------------------------\")"
      ],
      "metadata": {
        "execution": {
          "iopub.status.busy": "2023-02-05T12:23:17.887022Z",
          "iopub.execute_input": "2023-02-05T12:23:17.887438Z",
          "iopub.status.idle": "2023-02-05T12:23:20.748793Z",
          "shell.execute_reply.started": "2023-02-05T12:23:17.887403Z",
          "shell.execute_reply": "2023-02-05T12:23:20.747856Z"
        },
        "trusted": true,
        "id": "xGFsXaZHPc0b",
        "outputId": "f2afe8c9-7e97-4b1e-9d66-cbaa9d356041",
        "colab": {
          "base_uri": "https://localhost:8080/"
        }
      },
      "execution_count": 10,
      "outputs": [
        {
          "output_type": "stream",
          "name": "stdout",
          "text": [
            "column name : TX_DATETIME\n",
            "Number of unique columns of  TX_DATETIME :1635076\n",
            "Values of unique columns of  TX_DATETIME is below: \n",
            "2023-04-03 12:10:19    6\n",
            "2023-05-01 14:08:48    6\n",
            "2023-05-12 09:11:39    5\n",
            "2023-04-16 08:14:22    5\n",
            "2023-04-26 14:07:42    5\n",
            "                      ..\n",
            "2023-03-05 06:37:04    1\n",
            "2023-03-05 06:36:57    1\n",
            "2023-03-05 06:36:55    1\n",
            "2023-03-05 06:36:20    1\n",
            "2023-07-02 23:59:57    1\n",
            "Name: TX_DATETIME, Length: 1635076, dtype: int64\n",
            "------------------------------------------------------------------------\n"
          ]
        }
      ]
    },
    {
      "cell_type": "code",
      "source": [
        "df.isna().sum()"
      ],
      "metadata": {
        "trusted": true,
        "id": "ikDPUCpGPc0b",
        "outputId": "eab56fff-8b88-4af7-b411-d1e3e36ef403",
        "colab": {
          "base_uri": "https://localhost:8080/"
        }
      },
      "execution_count": 12,
      "outputs": [
        {
          "output_type": "execute_result",
          "data": {
            "text/plain": [
              "Unnamed: 0           0\n",
              "TRANSACTION_ID       0\n",
              "TX_DATETIME          0\n",
              "CUSTOMER_ID          0\n",
              "TERMINAL_ID          0\n",
              "TX_AMOUNT            0\n",
              "TX_TIME_SECONDS      0\n",
              "TX_TIME_DAYS         0\n",
              "TX_FRAUD             0\n",
              "TX_FRAUD_SCENARIO    0\n",
              "dtype: int64"
            ]
          },
          "metadata": {},
          "execution_count": 12
        }
      ]
    },
    {
      "cell_type": "markdown",
      "source": [
        "Luckily, there are no null values"
      ],
      "metadata": {
        "id": "Bu2s8t3zPc0b"
      }
    },
    {
      "cell_type": "markdown",
      "source": [
        "<a id=\"EDA\"></a>\n",
        "# 3. Exploratory Data Analysis (EDA) 📊📈"
      ],
      "metadata": {
        "id": "NKufFh9kPc0b"
      }
    },
    {
      "cell_type": "code",
      "source": [
        "count1 = 0\n",
        "count0 = 0\n",
        "for i in df['TX_FRAUD'].values:\n",
        "    if i == 1:\n",
        "        count1 += 1\n",
        "    else:\n",
        "        count0 += 1\n",
        "\n",
        "count1 = (count1/len(df['TX_FRAUD']))*100\n",
        "count0 = (count0/len(df['TX_FRAUD']))*100\n",
        "\n",
        "x = ['Fraudulent Transaction(TARGET=1)','Legitimate Transaction(TARGET=0)']\n",
        "y = [count1, count0]\n",
        "\n",
        "\n",
        "explode = (0.1, 0)  # only \"explode\" the 1st slice\n",
        "\n",
        "fig1, ax1 = plt.subplots()\n",
        "ax1.pie(y, explode=explode, labels=x, autopct='%1.1f%%',\n",
        "        shadow=True, startangle=110)\n",
        "ax1.axis('equal')  # Equal aspect ratio ensures that pie is drawn as a circle.\n",
        "plt.title('Data imbalance',fontsize=25)\n",
        "plt.show()"
      ],
      "metadata": {
        "execution": {
          "iopub.status.busy": "2023-02-05T12:23:24.28175Z",
          "iopub.execute_input": "2023-02-05T12:23:24.282241Z",
          "iopub.status.idle": "2023-02-05T12:23:25.034468Z",
          "shell.execute_reply.started": "2023-02-05T12:23:24.282202Z",
          "shell.execute_reply": "2023-02-05T12:23:25.032391Z"
        },
        "trusted": true,
        "id": "YtdaRTMnPc0c",
        "outputId": "201a2e5e-58fe-4e9d-bd5d-61e206f4db89",
        "colab": {
          "base_uri": "https://localhost:8080/",
          "height": 441
        }
      },
      "execution_count": 13,
      "outputs": [
        {
          "output_type": "display_data",
          "data": {
            "text/plain": [
              "<Figure size 640x480 with 1 Axes>"
            ],
            "image/png": "[encoded data removed]"
          },
          "metadata": {}
        }
      ]
    },
    {
      "cell_type": "markdown",
      "source": [
        "Given that only 13.5% of the data represents fraudulent transactions, the dataset is highly imbalanced. It will be necessary to balance it in order to ensure accurate modeling results."
      ],
      "metadata": {
        "id": "-Rc3b-76Pc0c"
      }
    },
    {
      "cell_type": "code",
      "source": [
        "df = pd.read_csv(\"/kaggle/input/fraud-transaction-detection/Final Transactions.csv\")\n",
        "\n",
        "df[\"month\"] = pd.DatetimeIndex(df[\"TX_DATETIME\"]).month\n",
        "\n",
        "grouped = df.groupby([\"month\", \"TX_FRAUD\"]).size().reset_index(name=\"count\")\n",
        "\n",
        "fig = px.bar(grouped, x=\"month\", y=\"count\", color=\"TX_FRAUD\", barmode=\"group\",\n",
        "             labels={\"month\": \"Month\", \"count\": \"Number of Transactions\", \"TX_FRAUD\": \"Transaction Type\"})\n",
        "\n",
        "fig.show()"
      ],
      "metadata": {
        "execution": {
          "iopub.status.busy": "2023-02-05T12:35:10.579059Z",
          "iopub.execute_input": "2023-02-05T12:35:10.579545Z",
          "iopub.status.idle": "2023-02-05T12:35:14.943357Z",
          "shell.execute_reply.started": "2023-02-05T12:35:10.57951Z",
          "shell.execute_reply": "2023-02-05T12:35:14.942091Z"
        },
        "trusted": true,
        "id": "j7mAc0IgPc0c",
        "outputId": "ba237536-2f2c-4df9-dd8f-fa1c74b8fb3e",
        "colab": {
          "base_uri": "https://localhost:8080/",
          "height": 542
        }
      },
      "execution_count": 14,
      "outputs": [
        {
          "output_type": "display_data",
          "data": {
            "text/html": [
              "<html>\n",
              "<head><meta charset=\"utf-8\" /></head>\n",
              "<body>\n",
              "    <div>            <script src=\"https://cdnjs.cloudflare.com/ajax/libs/mathjax/2.7.5/MathJax.js?config=TeX-AMS-MML_SVG\"></script><script type=\"text/javascript\">if (window.MathJax && window.MathJax.Hub && window.MathJax.Hub.Config) {window.MathJax.Hub.Config({SVG: {font: \"STIX-Web\"}});}</script>                <script type=\"text/javascript\">window.PlotlyConfig = {MathJaxConfig: 'local'};</script>\n",
              "        <script charset=\"utf-8\" src=\"https://cdn.plot.ly/plotly-2.24.1.min.js\"></script>                <div id=\"b753e723-b077-47f4-9592-23b80d4f49c2\" class=\"plotly-graph-div\" style=\"height:525px; width:100%;\"></div>            <script type=\"text/javascript\">                                    window.PLOTLYENV=window.PLOTLYENV || {};                                    if (document.getElementById(\"b753e723-b077-47f4-9592-23b80d4f49c2\")) {                    Plotly.newPlot(                        \"b753e723-b077-47f4-9592-23b80d4f49c2\",                        [{\"alignmentgroup\":\"True\",\"hovertemplate\":\"Month=%{x}\\u003cbr\\u003eNumber of Transactions=%{y}\\u003cbr\\u003eTransaction Type=%{marker.color}\\u003cextra\\u003e\\u003c\\u002fextra\\u003e\",\"legendgroup\":\"\",\"marker\":{\"color\":[0,1,0,1,0,1,0,1,0,1,0,1,0,1],\"coloraxis\":\"coloraxis\",\"pattern\":{\"shape\":\"\"}},\"name\":\"\",\"offsetgroup\":\"\",\"orientation\":\"v\",\"showlegend\":false,\"textposition\":\"auto\",\"x\":[1,1,2,2,3,3,4,4,5,5,6,6,7,7],\"xaxis\":\"x\",\"y\":[258376,39264,232475,36195,256532,40164,248685,38679,256655,40218,248986,38854,16477,2595],\"yaxis\":\"y\",\"type\":\"bar\"}],                        {\"template\":{\"data\":{\"histogram2dcontour\":[{\"type\":\"histogram2dcontour\",\"colorbar\":{\"outlinewidth\":0,\"ticks\":\"\"},\"colorscale\":[[0.0,\"#0d0887\"],[0.1111111111111111,\"#46039f\"],[0.2222222222222222,\"#7201a8\"],[0.3333333333333333,\"#9c179e\"],[0.4444444444444444,\"#bd3786\"],[0.5555555555555556,\"#d8576b\"],[0.6666666666666666,\"#ed7953\"],[0.7777777777777778,\"#fb9f3a\"],[0.8888888888888888,\"#fdca26\"],[1.0,\"#f0f921\"]]}],\"choropleth\":[{\"type\":\"choropleth\",\"colorbar\":{\"outlinewidth\":0,\"ticks\":\"\"}}],\"histogram2d\":[{\"type\":\"histogram2d\",\"colorbar\":{\"outlinewidth\":0,\"ticks\":\"\"},\"colorscale\":[[0.0,\"#0d0887\"],[0.1111111111111111,\"#46039f\"],[0.2222222222222222,\"#7201a8\"],[0.3333333333333333,\"#9c179e\"],[0.4444444444444444,\"#bd3786\"],[0.5555555555555556,\"#d8576b\"],[0.6666666666666666,\"#ed7953\"],[0.7777777777777778,\"#fb9f3a\"],[0.8888888888888888,\"#fdca26\"],[1.0,\"#f0f921\"]]}],\"heatmap\":[{\"type\":\"heatmap\",\"colorbar\":{\"outlinewidth\":0,\"ticks\":\"\"},\"colorscale\":[[0.0,\"#0d0887\"],[0.1111111111111111,\"#46039f\"],[0.2222222222222222,\"#7201a8\"],[0.3333333333333333,\"#9c179e\"],[0.4444444444444444,\"#bd3786\"],[0.5555555555555556,\"#d8576b\"],[0.6666666666666666,\"#ed7953\"],[0.7777777777777778,\"#fb9f3a\"],[0.8888888888888888,\"#fdca26\"],[1.0,\"#f0f921\"]]}],\"heatmapgl\":[{\"type\":\"heatmapgl\",\"colorbar\":{\"outlinewidth\":0,\"ticks\":\"\"},\"colorscale\":[[0.0,\"#0d0887\"],[0.1111111111111111,\"#46039f\"],[0.2222222222222222,\"#7201a8\"],[0.3333333333333333,\"#9c179e\"],[0.4444444444444444,\"#bd3786\"],[0.5555555555555556,\"#d8576b\"],[0.6666666666666666,\"#ed7953\"],[0.7777777777777778,\"#fb9f3a\"],[0.8888888888888888,\"#fdca26\"],[1.0,\"#f0f921\"]]}],\"contourcarpet\":[{\"type\":\"contourcarpet\",\"colorbar\":{\"outlinewidth\":0,\"ticks\":\"\"}}],\"contour\":[{\"type\":\"contour\",\"colorbar\":{\"outlinewidth\":0,\"ticks\":\"\"},\"colorscale\":[[0.0,\"#0d0887\"],[0.1111111111111111,\"#46039f\"],[0.2222222222222222,\"#7201a8\"],[0.3333333333333333,\"#9c179e\"],[0.4444444444444444,\"#bd3786\"],[0.5555555555555556,\"#d8576b\"],[0.6666666666666666,\"#ed7953\"],[0.7777777777777778,\"#fb9f3a\"],[0.8888888888888888,\"#fdca26\"],[1.0,\"#f0f921\"]]}],\"surface\":[{\"type\":\"surface\",\"colorbar\":{\"outlinewidth\":0,\"ticks\":\"\"},\"colorscale\":[[0.0,\"#0d0887\"],[0.1111111111111111,\"#46039f\"],[0.2222222222222222,\"#7201a8\"],[0.3333333333333333,\"#9c179e\"],[0.4444444444444444,\"#bd3786\"],[0.5555555555555556,\"#d8576b\"],[0.6666666666666666,\"#ed7953\"],[0.7777777777777778,\"#fb9f3a\"],[0.8888888888888888,\"#fdca26\"],[1.0,\"#f0f921\"]]}],\"mesh3d\":[{\"type\":\"mesh3d\",\"colorbar\":{\"outlinewidth\":0,\"ticks\":\"\"}}],\"scatter\":[{\"fillpattern\":{\"fillmode\":\"overlay\",\"size\":10,\"solidity\":0.2},\"type\":\"scatter\"}],\"parcoords\":[{\"type\":\"parcoords\",\"line\":{\"colorbar\":{\"outlinewidth\":0,\"ticks\":\"\"}}}],\"scatterpolargl\":[{\"type\":\"scatterpolargl\",\"marker\":{\"colorbar\":{\"outlinewidth\":0,\"ticks\":\"\"}}}],\"bar\":[{\"error_x\":{\"color\":\"#2a3f5f\"},\"error_y\":{\"color\":\"#2a3f5f\"},\"marker\":{\"line\":{\"color\":\"#E5ECF6\",\"width\":0.5},\"pattern\":{\"fillmode\":\"overlay\",\"size\":10,\"solidity\":0.2}},\"type\":\"bar\"}],\"scattergeo\":[{\"type\":\"scattergeo\",\"marker\":{\"colorbar\":{\"outlinewidth\":0,\"ticks\":\"\"}}}],\"scatterpolar\":[{\"type\":\"scatterpolar\",\"marker\":{\"colorbar\":{\"outlinewidth\":0,\"ticks\":\"\"}}}],\"histogram\":[{\"marker\":{\"pattern\":{\"fillmode\":\"overlay\",\"size\":10,\"solidity\":0.2}},\"type\":\"histogram\"}],\"scattergl\":[{\"type\":\"scattergl\",\"marker\":{\"colorbar\":{\"outlinewidth\":0,\"ticks\":\"\"}}}],\"scatter3d\":[{\"type\":\"scatter3d\",\"line\":{\"colorbar\":{\"outlinewidth\":0,\"ticks\":\"\"}},\"marker\":{\"colorbar\":{\"outlinewidth\":0,\"ticks\":\"\"}}}],\"scattermapbox\":[{\"type\":\"scattermapbox\",\"marker\":{\"colorbar\":{\"outlinewidth\":0,\"ticks\":\"\"}}}],\"scatterternary\":[{\"type\":\"scatterternary\",\"marker\":{\"colorbar\":{\"outlinewidth\":0,\"ticks\":\"\"}}}],\"scattercarpet\":[{\"type\":\"scattercarpet\",\"marker\":{\"colorbar\":{\"outlinewidth\":0,\"ticks\":\"\"}}}],\"carpet\":[{\"aaxis\":{\"endlinecolor\":\"#2a3f5f\",\"gridcolor\":\"white\",\"linecolor\":\"white\",\"minorgridcolor\":\"white\",\"startlinecolor\":\"#2a3f5f\"},\"baxis\":{\"endlinecolor\":\"#2a3f5f\",\"gridcolor\":\"white\",\"linecolor\":\"white\",\"minorgridcolor\":\"white\",\"startlinecolor\":\"#2a3f5f\"},\"type\":\"carpet\"}],\"table\":[{\"cells\":{\"fill\":{\"color\":\"#EBF0F8\"},\"line\":{\"color\":\"white\"}},\"header\":{\"fill\":{\"color\":\"#C8D4E3\"},\"line\":{\"color\":\"white\"}},\"type\":\"table\"}],\"barpolar\":[{\"marker\":{\"line\":{\"color\":\"#E5ECF6\",\"width\":0.5},\"pattern\":{\"fillmode\":\"overlay\",\"size\":10,\"solidity\":0.2}},\"type\":\"barpolar\"}],\"pie\":[{\"automargin\":true,\"type\":\"pie\"}]},\"layout\":{\"autotypenumbers\":\"strict\",\"colorway\":[\"#636efa\",\"#EF553B\",\"#00cc96\",\"#ab63fa\",\"#FFA15A\",\"#19d3f3\",\"#FF6692\",\"#B6E880\",\"#FF97FF\",\"#FECB52\"],\"font\":{\"color\":\"#2a3f5f\"},\"hovermode\":\"closest\",\"hoverlabel\":{\"align\":\"left\"},\"paper_bgcolor\":\"white\",\"plot_bgcolor\":\"#E5ECF6\",\"polar\":{\"bgcolor\":\"#E5ECF6\",\"angularaxis\":{\"gridcolor\":\"white\",\"linecolor\":\"white\",\"ticks\":\"\"},\"radialaxis\":{\"gridcolor\":\"white\",\"linecolor\":\"white\",\"ticks\":\"\"}},\"ternary\":{\"bgcolor\":\"#E5ECF6\",\"aaxis\":{\"gridcolor\":\"white\",\"linecolor\":\"white\",\"ticks\":\"\"},\"baxis\":{\"gridcolor\":\"white\",\"linecolor\":\"white\",\"ticks\":\"\"},\"caxis\":{\"gridcolor\":\"white\",\"linecolor\":\"white\",\"ticks\":\"\"}},\"coloraxis\":{\"colorbar\":{\"outlinewidth\":0,\"ticks\":\"\"}},\"colorscale\":{\"sequential\":[[0.0,\"#0d0887\"],[0.1111111111111111,\"#46039f\"],[0.2222222222222222,\"#7201a8\"],[0.3333333333333333,\"#9c179e\"],[0.4444444444444444,\"#bd3786\"],[0.5555555555555556,\"#d8576b\"],[0.6666666666666666,\"#ed7953\"],[0.7777777777777778,\"#fb9f3a\"],[0.8888888888888888,\"#fdca26\"],[1.0,\"#f0f921\"]],\"sequentialminus\":[[0.0,\"#0d0887\"],[0.1111111111111111,\"#46039f\"],[0.2222222222222222,\"#7201a8\"],[0.3333333333333333,\"#9c179e\"],[0.4444444444444444,\"#bd3786\"],[0.5555555555555556,\"#d8576b\"],[0.6666666666666666,\"#ed7953\"],[0.7777777777777778,\"#fb9f3a\"],[0.8888888888888888,\"#fdca26\"],[1.0,\"#f0f921\"]],\"diverging\":[[0,\"#8e0152\"],[0.1,\"#c51b7d\"],[0.2,\"#de77ae\"],[0.3,\"#f1b6da\"],[0.4,\"#fde0ef\"],[0.5,\"#f7f7f7\"],[0.6,\"#e6f5d0\"],[0.7,\"#b8e186\"],[0.8,\"#7fbc41\"],[0.9,\"#4d9221\"],[1,\"#276419\"]]},\"xaxis\":{\"gridcolor\":\"white\",\"linecolor\":\"white\",\"ticks\":\"\",\"title\":{\"standoff\":15},\"zerolinecolor\":\"white\",\"automargin\":true,\"zerolinewidth\":2},\"yaxis\":{\"gridcolor\":\"white\",\"linecolor\":\"white\",\"ticks\":\"\",\"title\":{\"standoff\":15},\"zerolinecolor\":\"white\",\"automargin\":true,\"zerolinewidth\":2},\"scene\":{\"xaxis\":{\"backgroundcolor\":\"#E5ECF6\",\"gridcolor\":\"white\",\"linecolor\":\"white\",\"showbackground\":true,\"ticks\":\"\",\"zerolinecolor\":\"white\",\"gridwidth\":2},\"yaxis\":{\"backgroundcolor\":\"#E5ECF6\",\"gridcolor\":\"white\",\"linecolor\":\"white\",\"showbackground\":true,\"ticks\":\"\",\"zerolinecolor\":\"white\",\"gridwidth\":2},\"zaxis\":{\"backgroundcolor\":\"#E5ECF6\",\"gridcolor\":\"white\",\"linecolor\":\"white\",\"showbackground\":true,\"ticks\":\"\",\"zerolinecolor\":\"white\",\"gridwidth\":2}},\"shapedefaults\":{\"line\":{\"color\":\"#2a3f5f\"}},\"annotationdefaults\":{\"arrowcolor\":\"#2a3f5f\",\"arrowhead\":0,\"arrowwidth\":1},\"geo\":{\"bgcolor\":\"white\",\"landcolor\":\"#E5ECF6\",\"subunitcolor\":\"white\",\"showland\":true,\"showlakes\":true,\"lakecolor\":\"white\"},\"title\":{\"x\":0.05},\"mapbox\":{\"style\":\"light\"}}},\"xaxis\":{\"anchor\":\"y\",\"domain\":[0.0,1.0],\"title\":{\"text\":\"Month\"}},\"yaxis\":{\"anchor\":\"x\",\"domain\":[0.0,1.0],\"title\":{\"text\":\"Number of Transactions\"}},\"coloraxis\":{\"colorbar\":{\"title\":{\"text\":\"Transaction Type\"}},\"colorscale\":[[0.0,\"#0d0887\"],[0.1111111111111111,\"#46039f\"],[0.2222222222222222,\"#7201a8\"],[0.3333333333333333,\"#9c179e\"],[0.4444444444444444,\"#bd3786\"],[0.5555555555555556,\"#d8576b\"],[0.6666666666666666,\"#ed7953\"],[0.7777777777777778,\"#fb9f3a\"],[0.8888888888888888,\"#fdca26\"],[1.0,\"#f0f921\"]]},\"legend\":{\"tracegroupgap\":0},\"margin\":{\"t\":60},\"barmode\":\"group\"},                        {\"responsive\": true}                    ).then(function(){\n",
              "                            \n",
              "var gd = document.getElementById('b753e723-b077-47f4-9592-23b80d4f49c2');\n",
              "var x = new MutationObserver(function (mutations, observer) {{\n",
              "        var display = window.getComputedStyle(gd).display;\n",
              "        if (!display || display === 'none') {{\n",
              "            console.log([gd, 'removed!']);\n",
              "            Plotly.purge(gd);\n",
              "            observer.disconnect();\n",
              "        }}\n",
              "}});\n",
              "\n",
              "// Listen for the removal of the full notebook cells\n",
              "var notebookContainer = gd.closest('#notebook-container');\n",
              "if (notebookContainer) {{\n",
              "    x.observe(notebookContainer, {childList: true});\n",
              "}}\n",
              "\n",
              "// Listen for the clearing of the current output cell\n",
              "var outputEl = gd.closest('.output');\n",
              "if (outputEl) {{\n",
              "    x.observe(outputEl, {childList: true});\n",
              "}}\n",
              "\n",
              "                        })                };                            </script>        </div>\n",
              "</body>\n",
              "</html>"
            ]
          },
          "metadata": {}
        }
      ]
    },
    {
      "cell_type": "code",
      "source": [
        "df = pd.read_csv(\"/kaggle/input/fraud-transaction-detection/Final Transactions.csv\")\n",
        "df = df[(df['TX_FRAUD_SCENARIO'] != 0) & (df['TX_AMOUNT'] != 0)]\n",
        "grouped = df.groupby(\"TX_FRAUD_SCENARIO\").size().reset_index(name=\"count\")\n",
        "\n",
        "fig = px.bar(grouped, x=\"TX_FRAUD_SCENARIO\", y=\"count\", color=\"TX_FRAUD_SCENARIO\",\n",
        "             labels={\"TX_FRAUD_SCENARIO\": \"Fraud Scenario\", \"count\": \"Number of Transactions\"})\n",
        "\n",
        "fig.show()"
      ],
      "metadata": {
        "execution": {
          "iopub.status.busy": "2023-02-05T12:35:17.306504Z",
          "iopub.execute_input": "2023-02-05T12:35:17.306938Z",
          "iopub.status.idle": "2023-02-05T12:35:19.67929Z",
          "shell.execute_reply.started": "2023-02-05T12:35:17.306896Z",
          "shell.execute_reply": "2023-02-05T12:35:19.678203Z"
        },
        "trusted": true,
        "id": "hd5oqsTUPc0c",
        "outputId": "0d9e94c8-4ce5-4747-d884-2acc13225185",
        "colab": {
          "base_uri": "https://localhost:8080/",
          "height": 542
        }
      },
      "execution_count": 15,
      "outputs": [
        {
          "output_type": "display_data",
          "data": {
            "text/html": [
              "<html>\n",
              "<head><meta charset=\"utf-8\" /></head>\n",
              "<body>\n",
              "    <div>            <script src=\"https://cdnjs.cloudflare.com/ajax/libs/mathjax/2.7.5/MathJax.js?config=TeX-AMS-MML_SVG\"></script><script type=\"text/javascript\">if (window.MathJax && window.MathJax.Hub && window.MathJax.Hub.Config) {window.MathJax.Hub.Config({SVG: {font: \"STIX-Web\"}});}</script>                <script type=\"text/javascript\">window.PlotlyConfig = {MathJaxConfig: 'local'};</script>\n",
              "        <script charset=\"utf-8\" src=\"https://cdn.plot.ly/plotly-2.24.1.min.js\"></script>                <div id=\"585f5fef-742d-484f-a514-d0069aca756f\" class=\"plotly-graph-div\" style=\"height:525px; width:100%;\"></div>            <script type=\"text/javascript\">                                    window.PLOTLYENV=window.PLOTLYENV || {};                                    if (document.getElementById(\"585f5fef-742d-484f-a514-d0069aca756f\")) {                    Plotly.newPlot(                        \"585f5fef-742d-484f-a514-d0069aca756f\",                        [{\"alignmentgroup\":\"True\",\"hovertemplate\":\"Fraud Scenario=%{marker.color}\\u003cbr\\u003eNumber of Transactions=%{y}\\u003cextra\\u003e\\u003c\\u002fextra\\u003e\",\"legendgroup\":\"\",\"marker\":{\"color\":[1,2,3],\"coloraxis\":\"coloraxis\",\"pattern\":{\"shape\":\"\"}},\"name\":\"\",\"offsetgroup\":\"\",\"orientation\":\"v\",\"showlegend\":false,\"textposition\":\"auto\",\"x\":[1,2,3],\"xaxis\":\"x\",\"y\":[222261,9077,4631],\"yaxis\":\"y\",\"type\":\"bar\"}],                        {\"template\":{\"data\":{\"histogram2dcontour\":[{\"type\":\"histogram2dcontour\",\"colorbar\":{\"outlinewidth\":0,\"ticks\":\"\"},\"colorscale\":[[0.0,\"#0d0887\"],[0.1111111111111111,\"#46039f\"],[0.2222222222222222,\"#7201a8\"],[0.3333333333333333,\"#9c179e\"],[0.4444444444444444,\"#bd3786\"],[0.5555555555555556,\"#d8576b\"],[0.6666666666666666,\"#ed7953\"],[0.7777777777777778,\"#fb9f3a\"],[0.8888888888888888,\"#fdca26\"],[1.0,\"#f0f921\"]]}],\"choropleth\":[{\"type\":\"choropleth\",\"colorbar\":{\"outlinewidth\":0,\"ticks\":\"\"}}],\"histogram2d\":[{\"type\":\"histogram2d\",\"colorbar\":{\"outlinewidth\":0,\"ticks\":\"\"},\"colorscale\":[[0.0,\"#0d0887\"],[0.1111111111111111,\"#46039f\"],[0.2222222222222222,\"#7201a8\"],[0.3333333333333333,\"#9c179e\"],[0.4444444444444444,\"#bd3786\"],[0.5555555555555556,\"#d8576b\"],[0.6666666666666666,\"#ed7953\"],[0.7777777777777778,\"#fb9f3a\"],[0.8888888888888888,\"#fdca26\"],[1.0,\"#f0f921\"]]}],\"heatmap\":[{\"type\":\"heatmap\",\"colorbar\":{\"outlinewidth\":0,\"ticks\":\"\"},\"colorscale\":[[0.0,\"#0d0887\"],[0.1111111111111111,\"#46039f\"],[0.2222222222222222,\"#7201a8\"],[0.3333333333333333,\"#9c179e\"],[0.4444444444444444,\"#bd3786\"],[0.5555555555555556,\"#d8576b\"],[0.6666666666666666,\"#ed7953\"],[0.7777777777777778,\"#fb9f3a\"],[0.8888888888888888,\"#fdca26\"],[1.0,\"#f0f921\"]]}],\"heatmapgl\":[{\"type\":\"heatmapgl\",\"colorbar\":{\"outlinewidth\":0,\"ticks\":\"\"},\"colorscale\":[[0.0,\"#0d0887\"],[0.1111111111111111,\"#46039f\"],[0.2222222222222222,\"#7201a8\"],[0.3333333333333333,\"#9c179e\"],[0.4444444444444444,\"#bd3786\"],[0.5555555555555556,\"#d8576b\"],[0.6666666666666666,\"#ed7953\"],[0.7777777777777778,\"#fb9f3a\"],[0.8888888888888888,\"#fdca26\"],[1.0,\"#f0f921\"]]}],\"contourcarpet\":[{\"type\":\"contourcarpet\",\"colorbar\":{\"outlinewidth\":0,\"ticks\":\"\"}}],\"contour\":[{\"type\":\"contour\",\"colorbar\":{\"outlinewidth\":0,\"ticks\":\"\"},\"colorscale\":[[0.0,\"#0d0887\"],[0.1111111111111111,\"#46039f\"],[0.2222222222222222,\"#7201a8\"],[0.3333333333333333,\"#9c179e\"],[0.4444444444444444,\"#bd3786\"],[0.5555555555555556,\"#d8576b\"],[0.6666666666666666,\"#ed7953\"],[0.7777777777777778,\"#fb9f3a\"],[0.8888888888888888,\"#fdca26\"],[1.0,\"#f0f921\"]]}],\"surface\":[{\"type\":\"surface\",\"colorbar\":{\"outlinewidth\":0,\"ticks\":\"\"},\"colorscale\":[[0.0,\"#0d0887\"],[0.1111111111111111,\"#46039f\"],[0.2222222222222222,\"#7201a8\"],[0.3333333333333333,\"#9c179e\"],[0.4444444444444444,\"#bd3786\"],[0.5555555555555556,\"#d8576b\"],[0.6666666666666666,\"#ed7953\"],[0.7777777777777778,\"#fb9f3a\"],[0.8888888888888888,\"#fdca26\"],[1.0,\"#f0f921\"]]}],\"mesh3d\":[{\"type\":\"mesh3d\",\"colorbar\":{\"outlinewidth\":0,\"ticks\":\"\"}}],\"scatter\":[{\"fillpattern\":{\"fillmode\":\"overlay\",\"size\":10,\"solidity\":0.2},\"type\":\"scatter\"}],\"parcoords\":[{\"type\":\"parcoords\",\"line\":{\"colorbar\":{\"outlinewidth\":0,\"ticks\":\"\"}}}],\"scatterpolargl\":[{\"type\":\"scatterpolargl\",\"marker\":{\"colorbar\":{\"outlinewidth\":0,\"ticks\":\"\"}}}],\"bar\":[{\"error_x\":{\"color\":\"#2a3f5f\"},\"error_y\":{\"color\":\"#2a3f5f\"},\"marker\":{\"line\":{\"color\":\"#E5ECF6\",\"width\":0.5},\"pattern\":{\"fillmode\":\"overlay\",\"size\":10,\"solidity\":0.2}},\"type\":\"bar\"}],\"scattergeo\":[{\"type\":\"scattergeo\",\"marker\":{\"colorbar\":{\"outlinewidth\":0,\"ticks\":\"\"}}}],\"scatterpolar\":[{\"type\":\"scatterpolar\",\"marker\":{\"colorbar\":{\"outlinewidth\":0,\"ticks\":\"\"}}}],\"histogram\":[{\"marker\":{\"pattern\":{\"fillmode\":\"overlay\",\"size\":10,\"solidity\":0.2}},\"type\":\"histogram\"}],\"scattergl\":[{\"type\":\"scattergl\",\"marker\":{\"colorbar\":{\"outlinewidth\":0,\"ticks\":\"\"}}}],\"scatter3d\":[{\"type\":\"scatter3d\",\"line\":{\"colorbar\":{\"outlinewidth\":0,\"ticks\":\"\"}},\"marker\":{\"colorbar\":{\"outlinewidth\":0,\"ticks\":\"\"}}}],\"scattermapbox\":[{\"type\":\"scattermapbox\",\"marker\":{\"colorbar\":{\"outlinewidth\":0,\"ticks\":\"\"}}}],\"scatterternary\":[{\"type\":\"scatterternary\",\"marker\":{\"colorbar\":{\"outlinewidth\":0,\"ticks\":\"\"}}}],\"scattercarpet\":[{\"type\":\"scattercarpet\",\"marker\":{\"colorbar\":{\"outlinewidth\":0,\"ticks\":\"\"}}}],\"carpet\":[{\"aaxis\":{\"endlinecolor\":\"#2a3f5f\",\"gridcolor\":\"white\",\"linecolor\":\"white\",\"minorgridcolor\":\"white\",\"startlinecolor\":\"#2a3f5f\"},\"baxis\":{\"endlinecolor\":\"#2a3f5f\",\"gridcolor\":\"white\",\"linecolor\":\"white\",\"minorgridcolor\":\"white\",\"startlinecolor\":\"#2a3f5f\"},\"type\":\"carpet\"}],\"table\":[{\"cells\":{\"fill\":{\"color\":\"#EBF0F8\"},\"line\":{\"color\":\"white\"}},\"header\":{\"fill\":{\"color\":\"#C8D4E3\"},\"line\":{\"color\":\"white\"}},\"type\":\"table\"}],\"barpolar\":[{\"marker\":{\"line\":{\"color\":\"#E5ECF6\",\"width\":0.5},\"pattern\":{\"fillmode\":\"overlay\",\"size\":10,\"solidity\":0.2}},\"type\":\"barpolar\"}],\"pie\":[{\"automargin\":true,\"type\":\"pie\"}]},\"layout\":{\"autotypenumbers\":\"strict\",\"colorway\":[\"#636efa\",\"#EF553B\",\"#00cc96\",\"#ab63fa\",\"#FFA15A\",\"#19d3f3\",\"#FF6692\",\"#B6E880\",\"#FF97FF\",\"#FECB52\"],\"font\":{\"color\":\"#2a3f5f\"},\"hovermode\":\"closest\",\"hoverlabel\":{\"align\":\"left\"},\"paper_bgcolor\":\"white\",\"plot_bgcolor\":\"#E5ECF6\",\"polar\":{\"bgcolor\":\"#E5ECF6\",\"angularaxis\":{\"gridcolor\":\"white\",\"linecolor\":\"white\",\"ticks\":\"\"},\"radialaxis\":{\"gridcolor\":\"white\",\"linecolor\":\"white\",\"ticks\":\"\"}},\"ternary\":{\"bgcolor\":\"#E5ECF6\",\"aaxis\":{\"gridcolor\":\"white\",\"linecolor\":\"white\",\"ticks\":\"\"},\"baxis\":{\"gridcolor\":\"white\",\"linecolor\":\"white\",\"ticks\":\"\"},\"caxis\":{\"gridcolor\":\"white\",\"linecolor\":\"white\",\"ticks\":\"\"}},\"coloraxis\":{\"colorbar\":{\"outlinewidth\":0,\"ticks\":\"\"}},\"colorscale\":{\"sequential\":[[0.0,\"#0d0887\"],[0.1111111111111111,\"#46039f\"],[0.2222222222222222,\"#7201a8\"],[0.3333333333333333,\"#9c179e\"],[0.4444444444444444,\"#bd3786\"],[0.5555555555555556,\"#d8576b\"],[0.6666666666666666,\"#ed7953\"],[0.7777777777777778,\"#fb9f3a\"],[0.8888888888888888,\"#fdca26\"],[1.0,\"#f0f921\"]],\"sequentialminus\":[[0.0,\"#0d0887\"],[0.1111111111111111,\"#46039f\"],[0.2222222222222222,\"#7201a8\"],[0.3333333333333333,\"#9c179e\"],[0.4444444444444444,\"#bd3786\"],[0.5555555555555556,\"#d8576b\"],[0.6666666666666666,\"#ed7953\"],[0.7777777777777778,\"#fb9f3a\"],[0.8888888888888888,\"#fdca26\"],[1.0,\"#f0f921\"]],\"diverging\":[[0,\"#8e0152\"],[0.1,\"#c51b7d\"],[0.2,\"#de77ae\"],[0.3,\"#f1b6da\"],[0.4,\"#fde0ef\"],[0.5,\"#f7f7f7\"],[0.6,\"#e6f5d0\"],[0.7,\"#b8e186\"],[0.8,\"#7fbc41\"],[0.9,\"#4d9221\"],[1,\"#276419\"]]},\"xaxis\":{\"gridcolor\":\"white\",\"linecolor\":\"white\",\"ticks\":\"\",\"title\":{\"standoff\":15},\"zerolinecolor\":\"white\",\"automargin\":true,\"zerolinewidth\":2},\"yaxis\":{\"gridcolor\":\"white\",\"linecolor\":\"white\",\"ticks\":\"\",\"title\":{\"standoff\":15},\"zerolinecolor\":\"white\",\"automargin\":true,\"zerolinewidth\":2},\"scene\":{\"xaxis\":{\"backgroundcolor\":\"#E5ECF6\",\"gridcolor\":\"white\",\"linecolor\":\"white\",\"showbackground\":true,\"ticks\":\"\",\"zerolinecolor\":\"white\",\"gridwidth\":2},\"yaxis\":{\"backgroundcolor\":\"#E5ECF6\",\"gridcolor\":\"white\",\"linecolor\":\"white\",\"showbackground\":true,\"ticks\":\"\",\"zerolinecolor\":\"white\",\"gridwidth\":2},\"zaxis\":{\"backgroundcolor\":\"#E5ECF6\",\"gridcolor\":\"white\",\"linecolor\":\"white\",\"showbackground\":true,\"ticks\":\"\",\"zerolinecolor\":\"white\",\"gridwidth\":2}},\"shapedefaults\":{\"line\":{\"color\":\"#2a3f5f\"}},\"annotationdefaults\":{\"arrowcolor\":\"#2a3f5f\",\"arrowhead\":0,\"arrowwidth\":1},\"geo\":{\"bgcolor\":\"white\",\"landcolor\":\"#E5ECF6\",\"subunitcolor\":\"white\",\"showland\":true,\"showlakes\":true,\"lakecolor\":\"white\"},\"title\":{\"x\":0.05},\"mapbox\":{\"style\":\"light\"}}},\"xaxis\":{\"anchor\":\"y\",\"domain\":[0.0,1.0],\"title\":{\"text\":\"Fraud Scenario\"}},\"yaxis\":{\"anchor\":\"x\",\"domain\":[0.0,1.0],\"title\":{\"text\":\"Number of Transactions\"}},\"coloraxis\":{\"colorbar\":{\"title\":{\"text\":\"Fraud Scenario\"}},\"colorscale\":[[0.0,\"#0d0887\"],[0.1111111111111111,\"#46039f\"],[0.2222222222222222,\"#7201a8\"],[0.3333333333333333,\"#9c179e\"],[0.4444444444444444,\"#bd3786\"],[0.5555555555555556,\"#d8576b\"],[0.6666666666666666,\"#ed7953\"],[0.7777777777777778,\"#fb9f3a\"],[0.8888888888888888,\"#fdca26\"],[1.0,\"#f0f921\"]]},\"legend\":{\"tracegroupgap\":0},\"margin\":{\"t\":60},\"barmode\":\"relative\"},                        {\"responsive\": true}                    ).then(function(){\n",
              "                            \n",
              "var gd = document.getElementById('585f5fef-742d-484f-a514-d0069aca756f');\n",
              "var x = new MutationObserver(function (mutations, observer) {{\n",
              "        var display = window.getComputedStyle(gd).display;\n",
              "        if (!display || display === 'none') {{\n",
              "            console.log([gd, 'removed!']);\n",
              "            Plotly.purge(gd);\n",
              "            observer.disconnect();\n",
              "        }}\n",
              "}});\n",
              "\n",
              "// Listen for the removal of the full notebook cells\n",
              "var notebookContainer = gd.closest('#notebook-container');\n",
              "if (notebookContainer) {{\n",
              "    x.observe(notebookContainer, {childList: true});\n",
              "}}\n",
              "\n",
              "// Listen for the clearing of the current output cell\n",
              "var outputEl = gd.closest('.output');\n",
              "if (outputEl) {{\n",
              "    x.observe(outputEl, {childList: true});\n",
              "}}\n",
              "\n",
              "                        })                };                            </script>        </div>\n",
              "</body>\n",
              "</html>"
            ]
          },
          "metadata": {}
        }
      ]
    },
    {
      "cell_type": "markdown",
      "source": [
        "From the bar plot, it is observed that the most frequently occurring fraud scenario is scenario type 1, while the least common scenario is scenario type 3. Next, let's examine the average transaction amount for each type of fraud scenario."
      ],
      "metadata": {
        "id": "_wRyD9pVPc0d"
      }
    },
    {
      "cell_type": "code",
      "source": [
        "df = pd.read_csv(\"/kaggle/input/fraud-transaction-detection/Final Transactions.csv\")\n",
        "\n",
        "df = df[(df['TX_FRAUD_SCENARIO'] != 0) & (df['TX_AMOUNT'] != 0)]\n",
        "\n",
        "grouped = df.groupby('TX_FRAUD_SCENARIO')['TX_AMOUNT'].mean().reset_index(name='mean_amount')\n",
        "\n",
        "fig = px.bar(grouped, x='TX_FRAUD_SCENARIO', y='mean_amount', labels={'TX_FRAUD_SCENARIO':'Fraud Scenario','mean_amount':'Average Transaction Amount'})\n",
        "\n",
        "fig.show()"
      ],
      "metadata": {
        "execution": {
          "iopub.status.busy": "2023-02-05T12:35:19.681747Z",
          "iopub.execute_input": "2023-02-05T12:35:19.682424Z",
          "iopub.status.idle": "2023-02-05T12:35:22.028972Z",
          "shell.execute_reply.started": "2023-02-05T12:35:19.682378Z",
          "shell.execute_reply": "2023-02-05T12:35:22.027626Z"
        },
        "trusted": true,
        "id": "G1aNPJSuPc0d"
      },
      "execution_count": null,
      "outputs": []
    },
    {
      "cell_type": "markdown",
      "source": [
        "As seen from the bar plot, scenario type 3 has the highest average transaction amount of 12.7k, yet it is the least common scenario type. Meanwhile, scenario type 2, despite being the second most common scenario type, has the lowest average transaction amount of 515. The most common scenario type, type 1, has an average transaction amount of 1281."
      ],
      "metadata": {
        "id": "y-FR2iPkPc0d"
      }
    },
    {
      "cell_type": "code",
      "source": [
        "\n",
        "df = pd.read_csv(\"/kaggle/input/fraud-transaction-detection/Final Transactions.csv\")\n",
        "\n",
        "df['TX_DATETIME'] = pd.to_datetime(df['TX_DATETIME'])\n",
        "\n",
        "df['date'] = df['TX_DATETIME'].dt.date\n",
        "\n",
        "grouped = df[df['TX_FRAUD'] == 1].groupby('date').size().reset_index(name='count')\n",
        "\n",
        "fig = px.line(grouped, x='date', y='count', labels={'date':'Date','count':'Number of Fraud Transactions'})\n",
        "\n",
        "fig.show()"
      ],
      "metadata": {
        "execution": {
          "iopub.status.busy": "2023-02-05T12:35:24.123768Z",
          "iopub.execute_input": "2023-02-05T12:35:24.128216Z",
          "iopub.status.idle": "2023-02-05T12:35:27.504771Z",
          "shell.execute_reply.started": "2023-02-05T12:35:24.128136Z",
          "shell.execute_reply": "2023-02-05T12:35:27.503593Z"
        },
        "trusted": true,
        "id": "oDl6yKBNPc0d"
      },
      "execution_count": null,
      "outputs": []
    },
    {
      "cell_type": "markdown",
      "source": [
        "The line plot shows that on January 2nd, 2023, there were 1182 fraudulent transactions, which is the lowest number of fraudulent transactions in a single day. On the other hand, on February 2nd, 2023, the highest number of fraudulent transactions, 1414, were recorded."
      ],
      "metadata": {
        "id": "CXD8L8ETPc0d"
      }
    },
    {
      "cell_type": "markdown",
      "source": [
        "<a id=\"Manipulation\"></a>\n",
        "# 4. Data Manipulation 🪄"
      ],
      "metadata": {
        "id": "3861d_9fPc0e"
      }
    },
    {
      "cell_type": "markdown",
      "source": [
        "- <h2> Balancing Data </h2>"
      ],
      "metadata": {
        "id": "SXLjCwy_Pc0e"
      }
    },
    {
      "cell_type": "code",
      "source": [
        "df = pd.read_csv('/kaggle/input/fraud-transaction-detection/Final Transactions.csv')\n",
        "\n",
        "df = df.drop(df.index[0])\n",
        "\n",
        "fraud = df[df['TX_FRAUD'] == 1]\n",
        "\n",
        "non_fraud = df[df['TX_FRAUD'] == 0]\n",
        "\n",
        "n_non_fraud = len(non_fraud)\n",
        "\n",
        "fraud_upsampled = fraud.sample(n_non_fraud, replace=True)\n",
        "\n",
        "df_upsampled = pd.concat([fraud_upsampled, non_fraud])\n",
        "\n",
        "df = df_upsampled.sample(frac=1, random_state=42).reset_index(drop=True)\n",
        "\n",
        "df.to_csv('cleaned_transactions.csv', index=False)"
      ],
      "metadata": {
        "execution": {
          "iopub.status.busy": "2023-02-05T17:41:50.773803Z",
          "iopub.execute_input": "2023-02-05T17:41:50.775047Z",
          "iopub.status.idle": "2023-02-05T17:42:09.6249Z",
          "shell.execute_reply.started": "2023-02-05T17:41:50.775001Z",
          "shell.execute_reply": "2023-02-05T17:42:09.623912Z"
        },
        "trusted": true,
        "id": "IuPHarJuPc0e"
      },
      "execution_count": null,
      "outputs": []
    },
    {
      "cell_type": "markdown",
      "source": [
        "The data has been balanced through the process of upsampling. To visualize the balance of the data, Let's create a pie chart."
      ],
      "metadata": {
        "id": "88CJ9NoqPc0e"
      }
    },
    {
      "cell_type": "code",
      "source": [
        "df = df_upsampled\n",
        "count1 = 0\n",
        "count0 = 0\n",
        "for i in df['TX_FRAUD'].values:\n",
        "    if i == 1:\n",
        "        count1 += 1\n",
        "    else:\n",
        "        count0 += 1\n",
        "\n",
        "count1 = (count1/len(df['TX_FRAUD']))*100\n",
        "count0 = (count0/len(df['TX_FRAUD']))*100\n",
        "\n",
        "x = ['Fraudulent Transaction(TARGET=1)','Legitimate Transaction(TARGET=0)']\n",
        "y = [count1, count0]\n",
        "\n",
        "\n",
        "explode = (0.1, 0)  # only \"explode\" the 1st slice\n",
        "\n",
        "fig1, ax1 = plt.subplots()\n",
        "ax1.pie(y, explode=explode, labels=x, autopct='%1.1f%%',\n",
        "        shadow=True, startangle=110)\n",
        "ax1.axis('equal')  # Equal aspect ratio ensures that pie is drawn as a circle.\n",
        "plt.title('Data imbalance',fontsize=25)\n",
        "plt.show()"
      ],
      "metadata": {
        "execution": {
          "iopub.status.busy": "2023-02-05T17:42:13.870846Z",
          "iopub.execute_input": "2023-02-05T17:42:13.871248Z",
          "iopub.status.idle": "2023-02-05T17:42:14.985746Z",
          "shell.execute_reply.started": "2023-02-05T17:42:13.871217Z",
          "shell.execute_reply": "2023-02-05T17:42:14.98423Z"
        },
        "trusted": true,
        "id": "OXXXvWTIPc0e"
      },
      "execution_count": null,
      "outputs": []
    },
    {
      "cell_type": "markdown",
      "source": [
        "as we can see data is now balanced"
      ],
      "metadata": {
        "id": "TSfwZVKVPc0f"
      }
    },
    {
      "cell_type": "markdown",
      "source": [
        "- <h2> Feature Extraction </h2>\n"
      ],
      "metadata": {
        "id": "K3JJ9yP8Pc0f"
      }
    },
    {
      "cell_type": "code",
      "source": [
        "\n",
        "df = pd.read_csv('/kaggle/working/cleaned_transactions.csv')\n",
        "\n",
        "df_features = df.drop(['TRANSACTION_ID', 'TX_FRAUD','TX_DATETIME','Unnamed: 0','CUSTOMER_ID','TERMINAL_ID','TX_FRAUD_SCENARIO'], axis=1)\n",
        "\n",
        "print(df_features.head())"
      ],
      "metadata": {
        "execution": {
          "iopub.status.busy": "2023-02-05T17:42:16.564535Z",
          "iopub.execute_input": "2023-02-05T17:42:16.565574Z",
          "iopub.status.idle": "2023-02-05T17:42:20.772061Z",
          "shell.execute_reply.started": "2023-02-05T17:42:16.565481Z",
          "shell.execute_reply": "2023-02-05T17:42:20.771104Z"
        },
        "trusted": true,
        "id": "dIJ3WJRcPc0f"
      },
      "execution_count": null,
      "outputs": []
    },
    {
      "cell_type": "markdown",
      "source": [
        "- <h2>Standardizing Data</h2>"
      ],
      "metadata": {
        "id": "LlUzt0MzPc0f"
      }
    },
    {
      "cell_type": "code",
      "source": [
        "from sklearn.preprocessing import StandardScaler\n",
        "\n",
        "scaler = StandardScaler()\n",
        "\n",
        "standardized_features = scaler.fit_transform(df_features)"
      ],
      "metadata": {
        "execution": {
          "iopub.status.busy": "2023-02-05T17:42:20.773745Z",
          "iopub.execute_input": "2023-02-05T17:42:20.774142Z",
          "iopub.status.idle": "2023-02-05T17:42:20.915214Z",
          "shell.execute_reply.started": "2023-02-05T17:42:20.774093Z",
          "shell.execute_reply": "2023-02-05T17:42:20.91387Z"
        },
        "trusted": true,
        "id": "gygjOv1XPc0f"
      },
      "execution_count": null,
      "outputs": []
    },
    {
      "cell_type": "markdown",
      "source": [
        "<a id=\"modeling\"></a>\n",
        "# 5. Modeling 🤖"
      ],
      "metadata": {
        "id": "9DM_AFmzPc0f"
      }
    },
    {
      "cell_type": "markdown",
      "source": [
        "- <h2> Selecting Model </h2>"
      ],
      "metadata": {
        "id": "TyG07chiPc0g"
      }
    },
    {
      "cell_type": "code",
      "source": [
        "df = pd.read_csv(\"/kaggle/working/cleaned_transactions.csv\")\n",
        "X = standardized_features\n",
        "y = df[\"TX_FRAUD\"]\n",
        "X_train, X_test, y_train, y_test = train_test_split(X, y, test_size=0.2, random_state=0)\n"
      ],
      "metadata": {
        "execution": {
          "iopub.status.busy": "2023-02-05T17:42:43.980268Z",
          "iopub.execute_input": "2023-02-05T17:42:43.980697Z",
          "iopub.status.idle": "2023-02-05T17:42:48.484749Z",
          "shell.execute_reply.started": "2023-02-05T17:42:43.98066Z",
          "shell.execute_reply": "2023-02-05T17:42:48.483274Z"
        },
        "trusted": true,
        "id": "as303QirPc0l"
      },
      "execution_count": null,
      "outputs": []
    },
    {
      "cell_type": "code",
      "source": [
        "\n",
        "models = {\"Logistic Regression\": LogisticRegression(),\n",
        "          \"K-Nearest Neighbors\": KNeighborsClassifier(),\n",
        "          \"Decision Tree\": DecisionTreeClassifier(),\n",
        "          \"Random Forest\": RandomForestClassifier(),\n",
        "          \"Gradient Boosting\": GradientBoostingClassifier()}\n",
        "\n",
        "for name, model in models.items():\n",
        "    model.fit(X_train, y_train)\n",
        "    y_pred = model.predict(X_test)\n",
        "    acc = accuracy_score(y_test, y_pred)\n",
        "    print(f\"{name} accuracy: {acc:.3f}\")"
      ],
      "metadata": {
        "execution": {
          "iopub.status.busy": "2023-02-05T17:42:25.64098Z",
          "iopub.execute_input": "2023-02-05T17:42:25.641491Z",
          "iopub.status.idle": "2023-02-05T17:42:33.525832Z",
          "shell.execute_reply.started": "2023-02-05T17:42:25.641444Z",
          "shell.execute_reply": "2023-02-05T17:42:33.5242Z"
        },
        "trusted": true,
        "id": "loB_JxL5Pc0l"
      },
      "execution_count": null,
      "outputs": []
    },
    {
      "cell_type": "markdown",
      "source": [
        "We are going to use Decision Tree Classifier and Random Forest. My plan is to use GridSearchCV and see if we can dump up accuracy on Decision Tree Classifier."
      ],
      "metadata": {
        "id": "OFQpMzM1Pc0l"
      }
    },
    {
      "cell_type": "markdown",
      "source": [
        "- <h2> Model 1) Decision Tree Classifier </h2>"
      ],
      "metadata": {
        "id": "HgTlaE4VPc0l"
      }
    },
    {
      "cell_type": "markdown",
      "source": [
        "* <h3> Model Optimization</h3>"
      ],
      "metadata": {
        "id": "NTQn2vvxPc0l"
      }
    },
    {
      "cell_type": "code",
      "source": [
        "dt_clf = DecisionTreeClassifier()\n",
        "\n",
        "param_grid = {\n",
        "    'max_depth': [5, 10, 20, None],\n",
        "    'min_samples_split': [2, 5, 10, 20],\n",
        "    'min_samples_leaf': [1, 2, 5, 10]\n",
        "}\n",
        "\n",
        "grid_search = GridSearchCV(dt_clf, param_grid, cv=5, scoring='f1_macro')\n",
        "grid_search.fit(X_test, y_test)\n",
        "\n",
        "print(\"Best hyperparameters: \", grid_search.best_params_)"
      ],
      "metadata": {
        "execution": {
          "iopub.status.busy": "2023-02-05T17:42:33.526624Z",
          "iopub.status.idle": "2023-02-05T17:42:33.527014Z",
          "shell.execute_reply.started": "2023-02-05T17:42:33.526824Z",
          "shell.execute_reply": "2023-02-05T17:42:33.526843Z"
        },
        "trusted": true,
        "id": "4LjbesJMPc0m"
      },
      "execution_count": null,
      "outputs": []
    },
    {
      "cell_type": "markdown",
      "source": [
        "* <h3>Optimised Model </h3>"
      ],
      "metadata": {
        "id": "st2sdOV0Pc0m"
      }
    },
    {
      "cell_type": "code",
      "source": [
        "model = DecisionTreeClassifier(max_depth= None, min_samples_leaf=1,min_samples_split=2)\n",
        "model.fit(X_train, y_train)\n",
        "\n",
        "y_pred_DTC = model.predict(X_test)\n",
        "\n",
        "acc = accuracy_score(y_test, y_pred_DTC)\n",
        "cm_DTC = confusion_matrix(y_test, y_pred_DTC)\n",
        "print(\"Decision Tree Classifier:\")\n",
        "print(\"Accuracy:\", acc)\n",
        "print(\"Confusion Matrix:\\n\", cm_DTC)"
      ],
      "metadata": {
        "execution": {
          "iopub.status.busy": "2023-02-05T17:42:51.13977Z",
          "iopub.execute_input": "2023-02-05T17:42:51.140684Z",
          "iopub.status.idle": "2023-02-05T17:43:29.506885Z",
          "shell.execute_reply.started": "2023-02-05T17:42:51.140642Z",
          "shell.execute_reply": "2023-02-05T17:43:29.50568Z"
        },
        "trusted": true,
        "id": "8Ad-5Jn0Pc0m"
      },
      "execution_count": null,
      "outputs": []
    },
    {
      "cell_type": "markdown",
      "source": [
        "- <h2>Model 2) RandomForestClassifier</h2>"
      ],
      "metadata": {
        "id": "qB9IiRPFPc0m"
      }
    },
    {
      "cell_type": "code",
      "source": [
        "model = RandomForestClassifier()\n",
        "model.fit(X_train, y_train)\n",
        "\n",
        "y_pred_RFC = model.predict(X_test)\n",
        "\n",
        "acc = accuracy_score(y_test, y_pred_RFC)\n",
        "cm_RFC = confusion_matrix(y_test, y_pred_RFC)\n",
        "print(\"Random Forest Classifier:\")\n",
        "print(\"Accuracy:\", acc)\n",
        "print(\"Confusion Matrix:\\n\", cm_RFC)"
      ],
      "metadata": {
        "execution": {
          "iopub.status.busy": "2023-02-05T17:43:29.509258Z",
          "iopub.execute_input": "2023-02-05T17:43:29.510174Z",
          "iopub.status.idle": "2023-02-05T17:56:58.697519Z",
          "shell.execute_reply.started": "2023-02-05T17:43:29.510104Z",
          "shell.execute_reply": "2023-02-05T17:56:58.696398Z"
        },
        "trusted": true,
        "id": "Ks9eac7bPc0m"
      },
      "execution_count": null,
      "outputs": []
    },
    {
      "cell_type": "markdown",
      "source": [
        "<a id = \"eval\"></a>\n",
        "# 6. Evaluation 🧪"
      ],
      "metadata": {
        "id": "dimDTdhTPc0m"
      }
    },
    {
      "cell_type": "code",
      "source": [
        "cm_sns_DTC = sns.heatmap(cm_DTC,annot=True,fmt='.1f')\n",
        "cm_sns_DTC.set_title('Confusion Matrix: Decision Tree Classifier')"
      ],
      "metadata": {
        "execution": {
          "iopub.status.busy": "2023-02-05T17:56:58.69868Z",
          "iopub.execute_input": "2023-02-05T17:56:58.698995Z",
          "iopub.status.idle": "2023-02-05T17:56:58.941821Z",
          "shell.execute_reply.started": "2023-02-05T17:56:58.698967Z",
          "shell.execute_reply": "2023-02-05T17:56:58.941008Z"
        },
        "trusted": true,
        "id": "ffqDpHeJPc0n"
      },
      "execution_count": null,
      "outputs": []
    },
    {
      "cell_type": "code",
      "source": [
        "cm_sns_RFC = sns.heatmap(cm_RFC,annot=True,fmt='.1f')\n",
        "cm_sns_RFC.set_title('Confusion Matrix: Random Forest Classifier')"
      ],
      "metadata": {
        "execution": {
          "iopub.status.busy": "2023-02-05T17:56:58.943729Z",
          "iopub.execute_input": "2023-02-05T17:56:58.944648Z",
          "iopub.status.idle": "2023-02-05T17:56:59.185566Z",
          "shell.execute_reply.started": "2023-02-05T17:56:58.944611Z",
          "shell.execute_reply": "2023-02-05T17:56:59.184152Z"
        },
        "trusted": true,
        "id": "KTN9Vd0aPc0n"
      },
      "execution_count": null,
      "outputs": []
    },
    {
      "cell_type": "code",
      "source": [
        "precision_DTC = precision_score(y_test, y_pred_DTC)\n",
        "recall_DTC = recall_score(y_test, y_pred_DTC)\n",
        "f1_DTC = f1_score(y_test, y_pred_DTC)\n",
        "print(\"Decision Tree Classifier:\")\n",
        "print(\"Precision: \", precision_DTC)\n",
        "print(\"Recall: \", recall_DTC)\n",
        "print(\"F1-Score: \", f1_DTC)"
      ],
      "metadata": {
        "execution": {
          "iopub.status.busy": "2023-02-05T17:56:59.187395Z",
          "iopub.execute_input": "2023-02-05T17:56:59.187852Z",
          "iopub.status.idle": "2023-02-05T17:57:00.130856Z",
          "shell.execute_reply.started": "2023-02-05T17:56:59.187808Z",
          "shell.execute_reply": "2023-02-05T17:57:00.129586Z"
        },
        "trusted": true,
        "id": "0jInHqfbPc0n"
      },
      "execution_count": null,
      "outputs": []
    },
    {
      "cell_type": "code",
      "source": [
        "precision_RFC = precision_score(y_test, y_pred_RFC)\n",
        "recall_RFC = recall_score(y_test, y_pred_RFC)\n",
        "f1_RFC = f1_score(y_test, y_pred_RFC)\n",
        "print(\"Random Forest Classifier\")\n",
        "print(\"Precision: \", precision_RFC)\n",
        "print(\"Recall: \", recall_RFC)\n",
        "print(\"F1-Score: \", f1_RFC)"
      ],
      "metadata": {
        "execution": {
          "iopub.status.busy": "2023-02-05T17:57:00.132388Z",
          "iopub.execute_input": "2023-02-05T17:57:00.132724Z",
          "iopub.status.idle": "2023-02-05T17:57:01.065567Z",
          "shell.execute_reply.started": "2023-02-05T17:57:00.132694Z",
          "shell.execute_reply": "2023-02-05T17:57:01.064179Z"
        },
        "trusted": true,
        "id": "yKx9mzr0Pc0n"
      },
      "execution_count": null,
      "outputs": []
    },
    {
      "cell_type": "code",
      "source": [
        "classifiers = ['Decision Tree Classifier', 'Random Forest Classifier']\n",
        "metrics = ['Precision', 'Recall', 'F1-Score']\n",
        "\n",
        "df = pd.DataFrame({'Classifier': [classifiers[0]]*3 + [classifiers[1]]*3,\n",
        "                   'Metrics': metrics*2,\n",
        "                   'Score': [precision_DTC, recall_DTC, f1_DTC, precision_RFC, recall_RFC, f1_RFC]})\n",
        "\n",
        "fig = px.bar(df, x='Classifier', y='Score', color='Metrics', barmode='group',\n",
        "             height=400, width=600, title=\"Classifier Performance Metrics\")\n",
        "\n",
        "fig.update_layout(xaxis=dict(categoryorder='category ascending'))\n",
        "fig.update_traces(customdata=df['Score'],texttemplate='%{customdata}', textposition='auto', textfont=dict(size=8))\n",
        "fig.update_traces(text=df['Score'], texttemplate='%{text}', textposition='outside', textfont=dict(size=8))\n",
        "fig.update_traces(hovertemplate='%{x}<br>Score: %{y:.4f}<extra></extra>')\n",
        "fig.update_layout(uniformtext_minsize=8, uniformtext_mode='hide')\n",
        "fig.update_traces(text=df['Score'].round(2).astype(str), texttemplate='%{text:.4f}', textposition='outside', textfont=dict(size=8))\n",
        "fig.show()"
      ],
      "metadata": {
        "execution": {
          "iopub.status.busy": "2023-02-05T18:19:50.476496Z",
          "iopub.execute_input": "2023-02-05T18:19:50.476883Z",
          "iopub.status.idle": "2023-02-05T18:19:50.569276Z",
          "shell.execute_reply.started": "2023-02-05T18:19:50.476853Z",
          "shell.execute_reply": "2023-02-05T18:19:50.568192Z"
        },
        "trusted": true,
        "id": "rJ0mhzm1Pc0o"
      },
      "execution_count": null,
      "outputs": []
    },
    {
      "cell_type": "code",
      "source": [
        "average_precision = average_precision_score(y_test, y_pred_DTC)\n",
        "\n",
        "print(\"Average precision-recall score: {:.2f}\".format(average_precision))"
      ],
      "metadata": {
        "execution": {
          "iopub.status.busy": "2023-02-05T18:10:55.311842Z",
          "iopub.execute_input": "2023-02-05T18:10:55.313048Z",
          "iopub.status.idle": "2023-02-05T18:10:55.422976Z",
          "shell.execute_reply.started": "2023-02-05T18:10:55.313001Z",
          "shell.execute_reply": "2023-02-05T18:10:55.421995Z"
        },
        "trusted": true,
        "id": "R05ZnkITPc0o"
      },
      "execution_count": null,
      "outputs": []
    },
    {
      "cell_type": "code",
      "source": [
        "average_precision_RFC = average_precision_score(y_test, y_pred_RFC)\n",
        "\n",
        "print(\"Average precision-recall score: {:.2f}\".format(average_precision))"
      ],
      "metadata": {
        "execution": {
          "iopub.status.busy": "2023-02-05T18:10:52.241169Z",
          "iopub.execute_input": "2023-02-05T18:10:52.241566Z",
          "iopub.status.idle": "2023-02-05T18:10:52.351486Z",
          "shell.execute_reply.started": "2023-02-05T18:10:52.241534Z",
          "shell.execute_reply": "2023-02-05T18:10:52.350639Z"
        },
        "trusted": true,
        "id": "r2FchnhEPc0o"
      },
      "execution_count": null,
      "outputs": []
    },
    {
      "cell_type": "markdown",
      "source": [
        "![CatStickerLineStickerGIF.gif](attachment:5219da64-a70c-40cb-84ef-ea62af7db7a3.gif)"
      ],
      "metadata": {
        "id": "2xmA1qmRPc0o"
      }
    },
    {
      "cell_type": "markdown",
      "source": [
        "<center><p style=\"color:red;\">💬 Thanks for reading till here!! If you liked the notebook then please do Upvote👍, and do give some remarks/advice if you think anything needs to be added/modified.</p></center>"
      ],
      "metadata": {
        "id": "E0jViI2DPc0o"
      }
    },
    {
      "cell_type": "code",
      "source": [],
      "metadata": {
        "id": "auZwkHM7Pc0p"
      },
      "execution_count": null,
      "outputs": []
    }
  ]
}